{
  "nbformat": 4,
  "nbformat_minor": 0,
  "metadata": {
    "colab": {
      "provenance": []
    },
    "kernelspec": {
      "name": "python3",
      "display_name": "Python 3"
    },
    "language_info": {
      "name": "python"
    }
  },
  "cells": [
    {
      "cell_type": "markdown",
      "source": [
        "# Dataset\n",
        "*Sparkify* is a *music streaming service*. Just like other famous streaming services (e.g. Spotify), users can choose free tier subscription with ads or paid tier without ads. They are free to upgrade, downgrade, or cancel their subscription plan."
      ],
      "metadata": {
        "id": "DLUNczHTN0vG"
      }
    },
    {
      "cell_type": "markdown",
      "source": [
        "# Task\n",
        "The tasks consist of a binary classification problem where in this case the objective is to identify clients more likely to churn. If we can identify which users are at-risk to churn, then the business can take action and potentially make them stay."
      ],
      "metadata": {
        "id": "XIh4Rs4nN2yn"
      }
    },
    {
      "cell_type": "markdown",
      "source": [
        "# Evaluation metrics\n",
        "- Because of the high imbalanced class ratio in the data, accuracy is inappropriate as evaluation metric.\n",
        "\n",
        "- The main reason is that the overwhelming number of examples from the majority class will overwhelm the number of examples in the minority class, meaning that even unskillful models can achieve accuracy scores of 90 percent, or 99 percent, depending on how severe the class imbalance happens to be.\n",
        "\n",
        "- Since our goal is to predict the users more likely to churn (postive class), **F1-score** of positive class has been considerend as main reference to select the best model for the current problem. At the same time also AUC-PR turned out to be good indicator to evaluate the performances of the models. "
      ],
      "metadata": {
        "id": "hfMcUh-TN4N-"
      }
    },
    {
      "cell_type": "markdown",
      "source": [
        "# Import libraries"
      ],
      "metadata": {
        "id": "gSPUP5XBOLYl"
      }
    },
    {
      "cell_type": "code",
      "source": [
        "# Import libraries\n",
        "from pyspark.sql import SparkSession\n",
        "import pyspark.sql.functions as F\n",
        "from pyspark.sql.functions import avg, col, concat, desc, lit, min, max, split, udf, countDistinct, sum, count\n",
        "from pyspark.sql.types import IntegerType, DoubleType\n",
        "from pyspark.sql import Window\n",
        "\n",
        "from pyspark.ml import Pipeline\n",
        "from pyspark.ml.feature import VectorAssembler, StandardScaler\n",
        "from pyspark.ml.classification import LogisticRegression,GBTClassifier,LinearSVC, RandomForestClassifier\n",
        "from pyspark.ml.evaluation import MulticlassClassificationEvaluator, BinaryClassificationEvaluator\n",
        "from pyspark.mllib.evaluation import MulticlassMetrics\n",
        "from pyspark.ml.tuning import CrossValidator, ParamGridBuilder\n",
        "\n",
        "import numpy as np\n",
        "import pandas as pd\n",
        "\n",
        "import matplotlib.pyplot as plt\n",
        "import matplotlib.dates as mdates\n",
        "%matplotlib inline\n",
        "\n",
        "import seaborn as sns"
      ],
      "metadata": {
        "id": "rlCGDXv-wS2a"
      },
      "execution_count": null,
      "outputs": []
    },
    {
      "cell_type": "markdown",
      "source": [
        "# Create spark session"
      ],
      "metadata": {
        "id": "JzWas3cKONzQ"
      }
    },
    {
      "cell_type": "code",
      "source": [
        "# for cluster mode\n",
        "\"\"\"\n",
        "from pyspark.sql import SparkSession\n",
        "\n",
        "spark = SparkSession.\\\n",
        "        builder.\\\n",
        "        appName(\"sparkify\").\\\n",
        "        master(\"spark://spark-master:7077\").\\\n",
        "        config(\"spark.executor.memory\", \"5120m\").\\\n",
        "        getOrCreate()\n",
        "\"\"\""
      ],
      "metadata": {
        "id": "q6Vn78yJ08tB"
      },
      "execution_count": null,
      "outputs": []
    },
    {
      "cell_type": "code",
      "source": [
        "# for local mode\n",
        "spark = SparkSession.builder.getOrCreate()"
      ],
      "metadata": {
        "id": "LOZ6T7wZwVK3"
      },
      "execution_count": null,
      "outputs": []
    },
    {
      "cell_type": "code",
      "source": [
        "file_json = 'mini_sparkify_event_data.json'"
      ],
      "metadata": {
        "id": "ChqFuT-awbXe"
      },
      "execution_count": null,
      "outputs": []
    },
    {
      "cell_type": "markdown",
      "source": [
        "# Load data"
      ],
      "metadata": {
        "id": "6IAMS6NUOUci"
      }
    },
    {
      "cell_type": "code",
      "source": [
        "# Read json data\n",
        "df = spark.read.json(file_json)\n",
        "df.show(5)"
      ],
      "metadata": {
        "colab": {
          "base_uri": "https://localhost:8080/"
        },
        "id": "mBo-QW0jwdg9",
        "outputId": "de5d4758-b158-4bc0-db4b-1798bc07d2a5"
      },
      "execution_count": null,
      "outputs": [
        {
          "output_type": "stream",
          "name": "stdout",
          "text": [
            "+----------------+---------+---------+------+-------------+--------+---------+-----+--------------------+------+--------+-------------+---------+--------------------+------+-------------+--------------------+------+\n",
            "|          artist|     auth|firstName|gender|itemInSession|lastName|   length|level|            location|method|    page| registration|sessionId|                song|status|           ts|           userAgent|userId|\n",
            "+----------------+---------+---------+------+-------------+--------+---------+-----+--------------------+------+--------+-------------+---------+--------------------+------+-------------+--------------------+------+\n",
            "|  Martha Tilston|Logged In|    Colin|     M|           50| Freeman|277.89016| paid|     Bakersfield, CA|   PUT|NextSong|1538173362000|       29|           Rockpools|   200|1538352117000|Mozilla/5.0 (Wind...|    30|\n",
            "|Five Iron Frenzy|Logged In|    Micah|     M|           79|    Long|236.09424| free|Boston-Cambridge-...|   PUT|NextSong|1538331630000|        8|              Canada|   200|1538352180000|\"Mozilla/5.0 (Win...|     9|\n",
            "|    Adam Lambert|Logged In|    Colin|     M|           51| Freeman| 282.8273| paid|     Bakersfield, CA|   PUT|NextSong|1538173362000|       29|   Time For Miracles|   200|1538352394000|Mozilla/5.0 (Wind...|    30|\n",
            "|          Enigma|Logged In|    Micah|     M|           80|    Long|262.71302| free|Boston-Cambridge-...|   PUT|NextSong|1538331630000|        8|Knocking On Forbi...|   200|1538352416000|\"Mozilla/5.0 (Win...|     9|\n",
            "|       Daft Punk|Logged In|    Colin|     M|           52| Freeman|223.60771| paid|     Bakersfield, CA|   PUT|NextSong|1538173362000|       29|Harder Better Fas...|   200|1538352676000|Mozilla/5.0 (Wind...|    30|\n",
            "+----------------+---------+---------+------+-------------+--------+---------+-----+--------------------+------+--------+-------------+---------+--------------------+------+-------------+--------------------+------+\n",
            "only showing top 5 rows\n",
            "\n"
          ]
        }
      ]
    },
    {
      "cell_type": "code",
      "source": [
        "df.printSchema()"
      ],
      "metadata": {
        "colab": {
          "base_uri": "https://localhost:8080/"
        },
        "id": "RPDIftgsDTdp",
        "outputId": "e50fd934-960e-43c4-88ce-d309783ceeac"
      },
      "execution_count": null,
      "outputs": [
        {
          "output_type": "stream",
          "name": "stdout",
          "text": [
            "root\n",
            " |-- artist: string (nullable = true)\n",
            " |-- auth: string (nullable = true)\n",
            " |-- firstName: string (nullable = true)\n",
            " |-- gender: string (nullable = true)\n",
            " |-- itemInSession: long (nullable = true)\n",
            " |-- lastName: string (nullable = true)\n",
            " |-- length: double (nullable = true)\n",
            " |-- level: string (nullable = true)\n",
            " |-- location: string (nullable = true)\n",
            " |-- method: string (nullable = true)\n",
            " |-- page: string (nullable = true)\n",
            " |-- registration: long (nullable = true)\n",
            " |-- sessionId: long (nullable = true)\n",
            " |-- song: string (nullable = true)\n",
            " |-- status: long (nullable = true)\n",
            " |-- ts: long (nullable = true)\n",
            " |-- userAgent: string (nullable = true)\n",
            " |-- userId: string (nullable = true)\n",
            "\n"
          ]
        }
      ]
    },
    {
      "cell_type": "code",
      "source": [
        "# Total number of patterns\n",
        "print('Total activity records: ',df.count())"
      ],
      "metadata": {
        "colab": {
          "base_uri": "https://localhost:8080/"
        },
        "id": "j5iOMWXLwfZi",
        "outputId": "07a5f4b7-4a8c-4f5f-a984-41d6de6f630d"
      },
      "execution_count": null,
      "outputs": [
        {
          "output_type": "stream",
          "name": "stdout",
          "text": [
            "Total activity records:  286500\n"
          ]
        }
      ]
    },
    {
      "cell_type": "code",
      "source": [
        "# Get auth summary\n",
        "df.groupby('auth').agg(countDistinct('userId')).show()"
      ],
      "metadata": {
        "colab": {
          "base_uri": "https://localhost:8080/"
        },
        "id": "AIHd7Bu4w53B",
        "outputId": "03f8ac72-f94d-4db5-e397-f37fdfa5d95e"
      },
      "execution_count": null,
      "outputs": [
        {
          "output_type": "stream",
          "name": "stdout",
          "text": [
            "+----------+-------------+\n",
            "|      auth|count(userId)|\n",
            "+----------+-------------+\n",
            "|Logged Out|            1|\n",
            "| Cancelled|           52|\n",
            "|     Guest|            1|\n",
            "| Logged In|          225|\n",
            "+----------+-------------+\n",
            "\n"
          ]
        }
      ]
    },
    {
      "cell_type": "markdown",
      "source": [
        "## Churn Definition\n",
        "In this study, we define churn as a user who cancelled the subscription and left Sparkify. When users submits cancellation, the record will have auth == 'Cancelled' and page == 'Cancellation Confirmation' . The cancellation is effective immediately."
      ],
      "metadata": {
        "id": "BuaELp9bUJpx"
      }
    },
    {
      "cell_type": "markdown",
      "source": [
        "# Data preprocessing\n",
        "The first step of our analysis consists of preprocessing the input data: \n",
        "- As showed above, there are users whose *auth* field is set to Logged out or Guest. They are not useful for our purposes so we can get rid of them.\n",
        "- Now, we can map our target label as follows: Logged in --> 0, Cancelled --> 1\n",
        "- Convert time stamp format to date time format\n",
        "- Map the gender as follows: Male --> 0, Female --> 1"
      ],
      "metadata": {
        "id": "FA-RF3VNOZ72"
      }
    },
    {
      "cell_type": "code",
      "source": [
        "def clean_data(df_input):\n",
        "    # Filter out status Guest and Logged Out to exclude guests\n",
        "    df_clean = df.filter( (col('auth') == 'Logged In' ) | (col('auth') == 'Cancelled') )\n",
        "\n",
        "    # fucntion for mapping Churn: {not_churn=0, churn=1}\n",
        "    map_labels = udf(lambda auth: 1 if auth == 'Cancelled' else 0, IntegerType())\n",
        "    df_clean = df_clean.withColumn('cancel', map_labels('auth'))\n",
        "\n",
        "    # convert ts in date format\n",
        "    df_clean = df_clean.withColumn(\"date\", F.to_date(F.from_unixtime(col('ts')/lit(1000))))\n",
        "\n",
        "    # Convert gender to 1/0. 1 = female\n",
        "    female = udf(lambda x: 1 if x == 'F' else 0, IntegerType())\n",
        "    df_clean = df_clean.withColumn('female', female('gender'))\n",
        "\n",
        "    return df_clean"
      ],
      "metadata": {
        "id": "JElLwHMEw8dr"
      },
      "execution_count": null,
      "outputs": []
    },
    {
      "cell_type": "code",
      "source": [
        "df_clean = clean_data(df)\n",
        "# Check for nulls\n",
        "print(\"Number of nulls in userId:\", df_clean.filter(df_clean.userId == '').count())\n",
        "print(\"Number of nulls in sessionId:\", df_clean.filter(df_clean.sessionId == '').count())"
      ],
      "metadata": {
        "colab": {
          "base_uri": "https://localhost:8080/"
        },
        "id": "VD5aqS5UxLlp",
        "outputId": "1fd8bb21-490c-4f23-b212-7a8259ffcbdd"
      },
      "execution_count": null,
      "outputs": [
        {
          "output_type": "stream",
          "name": "stdout",
          "text": [
            "Number of nulls in userId: 0\n",
            "Number of nulls in sessionId: 0\n"
          ]
        }
      ]
    },
    {
      "cell_type": "code",
      "source": [
        "df_clean.show(5)"
      ],
      "metadata": {
        "colab": {
          "base_uri": "https://localhost:8080/"
        },
        "id": "l9tywibsxTIu",
        "outputId": "6b8aaf99-c272-4e70-d18a-6108b166a1e9"
      },
      "execution_count": null,
      "outputs": [
        {
          "output_type": "stream",
          "name": "stdout",
          "text": [
            "+----------------+---------+---------+------+-------------+--------+---------+-----+--------------------+------+--------+-------------+---------+--------------------+------+-------------+--------------------+------+------+----------+------+\n",
            "|          artist|     auth|firstName|gender|itemInSession|lastName|   length|level|            location|method|    page| registration|sessionId|                song|status|           ts|           userAgent|userId|cancel|      date|female|\n",
            "+----------------+---------+---------+------+-------------+--------+---------+-----+--------------------+------+--------+-------------+---------+--------------------+------+-------------+--------------------+------+------+----------+------+\n",
            "|  Martha Tilston|Logged In|    Colin|     M|           50| Freeman|277.89016| paid|     Bakersfield, CA|   PUT|NextSong|1538173362000|       29|           Rockpools|   200|1538352117000|Mozilla/5.0 (Wind...|    30|     0|2018-10-01|     0|\n",
            "|Five Iron Frenzy|Logged In|    Micah|     M|           79|    Long|236.09424| free|Boston-Cambridge-...|   PUT|NextSong|1538331630000|        8|              Canada|   200|1538352180000|\"Mozilla/5.0 (Win...|     9|     0|2018-10-01|     0|\n",
            "|    Adam Lambert|Logged In|    Colin|     M|           51| Freeman| 282.8273| paid|     Bakersfield, CA|   PUT|NextSong|1538173362000|       29|   Time For Miracles|   200|1538352394000|Mozilla/5.0 (Wind...|    30|     0|2018-10-01|     0|\n",
            "|          Enigma|Logged In|    Micah|     M|           80|    Long|262.71302| free|Boston-Cambridge-...|   PUT|NextSong|1538331630000|        8|Knocking On Forbi...|   200|1538352416000|\"Mozilla/5.0 (Win...|     9|     0|2018-10-01|     0|\n",
            "|       Daft Punk|Logged In|    Colin|     M|           52| Freeman|223.60771| paid|     Bakersfield, CA|   PUT|NextSong|1538173362000|       29|Harder Better Fas...|   200|1538352676000|Mozilla/5.0 (Wind...|    30|     0|2018-10-01|     0|\n",
            "+----------------+---------+---------+------+-------------+--------+---------+-----+--------------------+------+--------+-------------+---------+--------------------+------+-------------+--------------------+------+------+----------+------+\n",
            "only showing top 5 rows\n",
            "\n"
          ]
        }
      ]
    },
    {
      "cell_type": "markdown",
      "source": [
        "# Exploratory Data Analysis (EDA)\n",
        "## User Activities"
      ],
      "metadata": {
        "id": "dC7_-dRbRywi"
      }
    },
    {
      "cell_type": "code",
      "source": [
        "# All user activity types\n",
        "pages = df_clean.groupby('page','method').count().sort('method')\n",
        "pages.show()"
      ],
      "metadata": {
        "colab": {
          "base_uri": "https://localhost:8080/"
        },
        "id": "txHN3w98y4L4",
        "outputId": "d96ab4be-2c43-43c7-c8ab-17411387f4df"
      },
      "execution_count": null,
      "outputs": [
        {
          "output_type": "stream",
          "name": "stdout",
          "text": [
            "+--------------------+------+------+\n",
            "|                page|method| count|\n",
            "+--------------------+------+------+\n",
            "|               About|   GET|   495|\n",
            "|             Upgrade|   GET|   499|\n",
            "|            Settings|   GET|  1514|\n",
            "|               Error|   GET|   252|\n",
            "|                Help|   GET|  1454|\n",
            "|Cancellation Conf...|   GET|    52|\n",
            "|                Home|   GET| 10082|\n",
            "|           Downgrade|   GET|  2055|\n",
            "|         Roll Advert|   GET|  3933|\n",
            "|          Add Friend|   PUT|  4277|\n",
            "|              Logout|   PUT|  3226|\n",
            "|      Submit Upgrade|   PUT|   159|\n",
            "|       Save Settings|   PUT|   310|\n",
            "|     Add to Playlist|   PUT|  6526|\n",
            "|              Cancel|   PUT|    52|\n",
            "|         Thumbs Down|   PUT|  2546|\n",
            "|            NextSong|   PUT|228108|\n",
            "|    Submit Downgrade|   PUT|    63|\n",
            "|           Thumbs Up|   PUT| 12551|\n",
            "+--------------------+------+------+\n",
            "\n"
          ]
        }
      ]
    },
    {
      "cell_type": "markdown",
      "source": [
        "## Proactive users\n",
        "In addition to playing songs, users can also rate the songs, change settings and add friends. Are users with more interactions on Sparkify more sticky to the platform? Will users leave because they got too many songs they don’t like in their feed?\n",
        "\n",
        "We can consider as *proactive users* the ones who perform a *PUT* operations. As shown in the plot below, the most common activities (after reproducing a song) is *Thumbs Up*"
      ],
      "metadata": {
        "id": "YqNN75B4EtlV"
      }
    },
    {
      "cell_type": "code",
      "source": [
        "# Use'PUT' to get user proactive activities\n",
        "pages_df = pages.toPandas()\n",
        "pages_df_plt = pages_df.loc[(pages_df['method'] == 'PUT') & (pages_df['page'] != 'NextSong')]\n",
        "\n",
        "activity = pages_df_plt['page']\n",
        "count = pages_df_plt['count']\n",
        "plt.figure(figsize=(15,5))\n",
        "plt.bar(activity, count)\n",
        "plt.ylabel('Total Activities')\n",
        "plt.xlabel('Page')\n",
        "plt.title('User Activity Summary')\n",
        "\n",
        "plt.show()"
      ],
      "metadata": {
        "colab": {
          "base_uri": "https://localhost:8080/",
          "height": 350
        },
        "id": "N4TPj0wvy_Ev",
        "outputId": "166e5c9d-d407-4fa7-eeda-ddf8231e0857"
      },
      "execution_count": null,
      "outputs": [
        {
          "output_type": "display_data",
          "data": {
            "text/plain": [
              "<Figure size 1080x360 with 1 Axes>"
            ],
            "image/png": "[encoded data removed]"
          },
          "metadata": {
            "needs_background": "light"
          }
        }
      ]
    },
    {
      "cell_type": "markdown",
      "source": [
        "## Example of user downgrade\n",
        "- Downgrade happens right after user submit downgrade"
      ],
      "metadata": {
        "id": "bNAEwKTDFaoZ"
      }
    },
    {
      "cell_type": "code",
      "source": [
        "# Example of user downgrade\n",
        "# Downgrade happens right after user submit downgrade\n",
        "df_clean.filter(col('userId') == '131').groupby(['level','sessionId','page']\\\n",
        "                                         ).agg(min(col('date')).alias('date'),\\\n",
        "                                              sum(col('length')).alias('length')).sort(col('date').desc()).show(30)\n"
      ],
      "metadata": {
        "colab": {
          "base_uri": "https://localhost:8080/"
        },
        "id": "vS_p0NF6z1qD",
        "outputId": "2798905a-f02f-4b33-9867-5762a16cf774"
      },
      "execution_count": null,
      "outputs": [
        {
          "output_type": "stream",
          "name": "stdout",
          "text": [
            "+-----+---------+----------------+----------+------------------+\n",
            "|level|sessionId|            page|      date|            length|\n",
            "+-----+---------+----------------+----------+------------------+\n",
            "| free|     2281|            Home|2018-11-30|              null|\n",
            "| free|     2155|       Thumbs Up|2018-11-25|              null|\n",
            "| free|     2155| Add to Playlist|2018-11-25|              null|\n",
            "| free|     2155|        NextSong|2018-11-25|11182.815799999997|\n",
            "| free|     2155|     Thumbs Down|2018-11-25|              null|\n",
            "| free|     2155|     Roll Advert|2018-11-25|              null|\n",
            "| free|     2155|            Home|2018-11-25|              null|\n",
            "| free|     2155|           About|2018-11-25|              null|\n",
            "| free|     2155|          Logout|2018-11-25|              null|\n",
            "| free|     2155|      Add Friend|2018-11-25|              null|\n",
            "| free|     2094|        NextSong|2018-11-21|         563.35582|\n",
            "| free|     2094|            Home|2018-11-21|              null|\n",
            "| free|     2041|     Roll Advert|2018-11-20|              null|\n",
            "| paid|     2041|            Home|2018-11-19|              null|\n",
            "| paid|     2041|        Settings|2018-11-19|              null|\n",
            "| paid|     2041|        NextSong|2018-11-19|       20587.69085|\n",
            "| paid|     2041| Add to Playlist|2018-11-19|              null|\n",
            "| paid|     2041|       Thumbs Up|2018-11-19|              null|\n",
            "| paid|     2041|            Help|2018-11-19|              null|\n",
            "| paid|     2041|     Thumbs Down|2018-11-19|              null|\n",
            "| free|     2041|        NextSong|2018-11-19|        1865.66169|\n",
            "| paid|     2041|       Downgrade|2018-11-19|              null|\n",
            "| paid|     2041|Submit Downgrade|2018-11-19|              null|\n",
            "| paid|     2041|      Add Friend|2018-11-19|              null|\n",
            "| free|     2041|            Home|2018-11-19|              null|\n",
            "| paid|     1881|     Thumbs Down|2018-11-18|              null|\n",
            "| paid|     1881|           About|2018-11-18|              null|\n",
            "| paid|     1881|        NextSong|2018-11-17|13187.164290000002|\n",
            "| paid|     1881|            Home|2018-11-17|              null|\n",
            "| paid|     1881|       Thumbs Up|2018-11-17|              null|\n",
            "+-----+---------+----------------+----------+------------------+\n",
            "only showing top 30 rows\n",
            "\n"
          ]
        }
      ]
    },
    {
      "cell_type": "markdown",
      "source": [
        "## User most common locations"
      ],
      "metadata": {
        "id": "jWxMiZn7FmEK"
      }
    },
    {
      "cell_type": "code",
      "source": [
        "# Get user location\n",
        "df_loc = df_clean.groupby('location').agg(countDistinct('userId')).toPandas()\n",
        "df_loc = df_loc.sort_values('count(userId)').iloc[-20:,:]\n",
        "\n",
        "plt.figure(figsize=(8,8))\n",
        "plt.barh(df_loc['location'], df_loc['count(userId)'])\n",
        "plt.ylabel('Location')\n",
        "plt.xlabel('Number of distinct users')\n",
        "plt.title('User Location Summary')\n",
        "plt.xticks(rotation='vertical')\n",
        "\n",
        "plt.show()"
      ],
      "metadata": {
        "colab": {
          "base_uri": "https://localhost:8080/",
          "height": 516
        },
        "id": "EtMXQNwg0Y8X",
        "outputId": "7188cafd-db43-4567-d0a1-71592fe8a7b7"
      },
      "execution_count": null,
      "outputs": [
        {
          "output_type": "display_data",
          "data": {
            "text/plain": [
              "<Figure size 576x576 with 1 Axes>"
            ],
            "image/png": "[encoded data removed]"
          },
          "metadata": {
            "needs_background": "light"
          }
        }
      ]
    },
    {
      "cell_type": "markdown",
      "source": [
        "## Gender distribution between regular and churn users"
      ],
      "metadata": {
        "id": "0511kbTjGW0v"
      }
    },
    {
      "cell_type": "code",
      "source": [
        "churn_gender_df = df_clean.groupby(['cancel', 'gender']).agg(countDistinct('userId')).toPandas()\n",
        "churn_gender_df"
      ],
      "metadata": {
        "colab": {
          "base_uri": "https://localhost:8080/",
          "height": 175
        },
        "id": "3sObfQ8g11-B",
        "outputId": "0546ef19-9235-4990-a63d-943d1e7de864"
      },
      "execution_count": null,
      "outputs": [
        {
          "output_type": "execute_result",
          "data": {
            "text/plain": [
              "   cancel gender  count(userId)\n",
              "0       1      F             20\n",
              "1       0      M            121\n",
              "2       1      M             32\n",
              "3       0      F            104"
            ],
            "text/html": [
              "\n",
              "  <div id=\"df-7a59f157-d61a-4e9f-a7f5-7a71f6bcfc60\">\n",
              "    <div class=\"colab-df-container\">\n",
              "      <div>\n",
              "<style scoped>\n",
              "    .dataframe tbody tr th:only-of-type {\n",
              "        vertical-align: middle;\n",
              "    }\n",
              "\n",
              "    .dataframe tbody tr th {\n",
              "        vertical-align: top;\n",
              "    }\n",
              "\n",
              "    .dataframe thead th {\n",
              "        text-align: right;\n",
              "    }\n",
              "</style>\n",
              "<table border=\"1\" class=\"dataframe\">\n",
              "  <thead>\n",
              "    <tr style=\"text-align: right;\">\n",
              "      <th></th>\n",
              "      <th>cancel</th>\n",
              "      <th>gender</th>\n",
              "      <th>count(userId)</th>\n",
              "    </tr>\n",
              "  </thead>\n",
              "  <tbody>\n",
              "    <tr>\n",
              "      <th>0</th>\n",
              "      <td>1</td>\n",
              "      <td>F</td>\n",
              "      <td>20</td>\n",
              "    </tr>\n",
              "    <tr>\n",
              "      <th>1</th>\n",
              "      <td>0</td>\n",
              "      <td>M</td>\n",
              "      <td>121</td>\n",
              "    </tr>\n",
              "    <tr>\n",
              "      <th>2</th>\n",
              "      <td>1</td>\n",
              "      <td>M</td>\n",
              "      <td>32</td>\n",
              "    </tr>\n",
              "    <tr>\n",
              "      <th>3</th>\n",
              "      <td>0</td>\n",
              "      <td>F</td>\n",
              "      <td>104</td>\n",
              "    </tr>\n",
              "  </tbody>\n",
              "</table>\n",
              "</div>\n",
              "      <button class=\"colab-df-convert\" onclick=\"convertToInteractive('df-7a59f157-d61a-4e9f-a7f5-7a71f6bcfc60')\"\n",
              "              title=\"Convert this dataframe to an interactive table.\"\n",
              "              style=\"display:none;\">\n",
              "        \n",
              "  <svg xmlns=\"http://www.w3.org/2000/svg\" height=\"24px\"viewBox=\"0 0 24 24\"\n",
              "       width=\"24px\">\n",
              "    <path d=\"M0 0h24v24H0V0z\" fill=\"none\"/>\n",
              "    <path d=\"M18.56 5.44l.94 2.06.94-2.06 2.06-.94-2.06-.94-.94-2.06-.94 2.06-2.06.94zm-11 1L8.5 8.5l.94-2.06 2.06-.94-2.06-.94L8.5 2.5l-.94 2.06-2.06.94zm10 10l.94 2.06.94-2.06 2.06-.94-2.06-.94-.94-2.06-.94 2.06-2.06.94z\"/><path d=\"M17.41 7.96l-1.37-1.37c-.4-.4-.92-.59-1.43-.59-.52 0-1.04.2-1.43.59L10.3 9.45l-7.72 7.72c-.78.78-.78 2.05 0 2.83L4 21.41c.39.39.9.59 1.41.59.51 0 1.02-.2 1.41-.59l7.78-7.78 2.81-2.81c.8-.78.8-2.07 0-2.86zM5.41 20L4 18.59l7.72-7.72 1.47 1.35L5.41 20z\"/>\n",
              "  </svg>\n",
              "      </button>\n",
              "      \n",
              "  <style>\n",
              "    .colab-df-container {\n",
              "      display:flex;\n",
              "      flex-wrap:wrap;\n",
              "      gap: 12px;\n",
              "    }\n",
              "\n",
              "    .colab-df-convert {\n",
              "      background-color: #E8F0FE;\n",
              "      border: none;\n",
              "      border-radius: 50%;\n",
              "      cursor: pointer;\n",
              "      display: none;\n",
              "      fill: #1967D2;\n",
              "      height: 32px;\n",
              "      padding: 0 0 0 0;\n",
              "      width: 32px;\n",
              "    }\n",
              "\n",
              "    .colab-df-convert:hover {\n",
              "      background-color: #E2EBFA;\n",
              "      box-shadow: 0px 1px 2px rgba(60, 64, 67, 0.3), 0px 1px 3px 1px rgba(60, 64, 67, 0.15);\n",
              "      fill: #174EA6;\n",
              "    }\n",
              "\n",
              "    [theme=dark] .colab-df-convert {\n",
              "      background-color: #3B4455;\n",
              "      fill: #D2E3FC;\n",
              "    }\n",
              "\n",
              "    [theme=dark] .colab-df-convert:hover {\n",
              "      background-color: #434B5C;\n",
              "      box-shadow: 0px 1px 3px 1px rgba(0, 0, 0, 0.15);\n",
              "      filter: drop-shadow(0px 1px 2px rgba(0, 0, 0, 0.3));\n",
              "      fill: #FFFFFF;\n",
              "    }\n",
              "  </style>\n",
              "\n",
              "      <script>\n",
              "        const buttonEl =\n",
              "          document.querySelector('#df-7a59f157-d61a-4e9f-a7f5-7a71f6bcfc60 button.colab-df-convert');\n",
              "        buttonEl.style.display =\n",
              "          google.colab.kernel.accessAllowed ? 'block' : 'none';\n",
              "\n",
              "        async function convertToInteractive(key) {\n",
              "          const element = document.querySelector('#df-7a59f157-d61a-4e9f-a7f5-7a71f6bcfc60');\n",
              "          const dataTable =\n",
              "            await google.colab.kernel.invokeFunction('convertToInteractive',\n",
              "                                                     [key], {});\n",
              "          if (!dataTable) return;\n",
              "\n",
              "          const docLinkHtml = 'Like what you see? Visit the ' +\n",
              "            '<a target=\"_blank\" href=https://colab.research.google.com/notebooks/data_table.ipynb>data table notebook</a>'\n",
              "            + ' to learn more about interactive tables.';\n",
              "          element.innerHTML = '';\n",
              "          dataTable['output_type'] = 'display_data';\n",
              "          await google.colab.output.renderOutput(dataTable, element);\n",
              "          const docLink = document.createElement('div');\n",
              "          docLink.innerHTML = docLinkHtml;\n",
              "          element.appendChild(docLink);\n",
              "        }\n",
              "      </script>\n",
              "    </div>\n",
              "  </div>\n",
              "  "
            ]
          },
          "metadata": {},
          "execution_count": 15
        }
      ]
    },
    {
      "cell_type": "code",
      "source": [
        "# Plotting a bar plot to show gender distribution between regular and churn users\n",
        "fig, ax = plt.subplots(figsize=(10, 5))\n",
        "plt.title('Gender distribution between regular and churn users')\n",
        "ax = sns.barplot(x = 'cancel', y = 'count(userId)', data = churn_gender_df, hue = \"gender\", palette = [\"pink\", \"lightgreen\"])\n",
        "\n",
        "ax.set(xticklabels=['Not Churned', 'Churned'])\n",
        "\n",
        "ax.set_ylabel('Count')\n",
        "ax.set_xlabel('User Churn')\n",
        "ax.legend()"
      ],
      "metadata": {
        "colab": {
          "base_uri": "https://localhost:8080/",
          "height": 368
        },
        "id": "86woHnti6TXY",
        "outputId": "0051dc43-f53e-4a7a-f487-07cdd525e635"
      },
      "execution_count": null,
      "outputs": [
        {
          "output_type": "execute_result",
          "data": {
            "text/plain": [
              "<matplotlib.legend.Legend at 0x7f1241e0afa0>"
            ]
          },
          "metadata": {},
          "execution_count": 16
        },
        {
          "output_type": "display_data",
          "data": {
            "text/plain": [
              "<Figure size 720x360 with 1 Axes>"
            ],
            "image/png": "[encoded data removed]"
          },
          "metadata": {
            "needs_background": "light"
          }
        }
      ]
    },
    {
      "cell_type": "markdown",
      "source": [
        "## Paid/Free customers"
      ],
      "metadata": {
        "id": "YHCjsvQPGhzn"
      }
    },
    {
      "cell_type": "code",
      "source": [
        "# Plotting a bar plot to show differense between Paid/Free customers churn per gender\n",
        "fig, ax = plt.subplots(figsize=(10, 5))\n",
        "\n",
        "df_level_pd = df_clean.filter('page == \"Cancellation Confirmation\"').groupby(['level', 'gender']).count().toPandas()\n",
        "plt.title('Paid/Free customers churn')\n",
        "sns.barplot(data = df_level_pd, x = 'level', y = 'count',  hue = 'gender', palette = [\"lightgreen\", \"pink\"])\n",
        "\n",
        "ax.set(xticklabels=['Free', 'Paid'])\n",
        "\n",
        "ax.set_ylabel('Count')\n",
        "ax.set_xlabel('User Level')\n",
        "ax.legend()"
      ],
      "metadata": {
        "colab": {
          "base_uri": "https://localhost:8080/",
          "height": 368
        },
        "id": "2Hwh-SRL7kPJ",
        "outputId": "27767a19-b374-46ee-c48c-bb625cf201c5"
      },
      "execution_count": null,
      "outputs": [
        {
          "output_type": "execute_result",
          "data": {
            "text/plain": [
              "<matplotlib.legend.Legend at 0x7f12784869d0>"
            ]
          },
          "metadata": {},
          "execution_count": 17
        },
        {
          "output_type": "display_data",
          "data": {
            "text/plain": [
              "<Figure size 720x360 with 1 Axes>"
            ],
            "image/png": "[encoded data removed]"
          },
          "metadata": {
            "needs_background": "light"
          }
        }
      ]
    },
    {
      "cell_type": "markdown",
      "source": [
        "## Activity Dates\n",
        "The date range in the dataset is *2018-09-30* to *2018-12-02*. We can see paid tier and free tier has similar numbers of user sessions and distinct user at the beginning, then both metrics increased over time for the paid tier as the metrics decreased for free users.\n"
      ],
      "metadata": {
        "id": "0HbSCCKJHuD0"
      }
    },
    {
      "cell_type": "code",
      "source": [
        "# Get user activity summary over time\n",
        "time = df_clean.select(['date','sessionId','userId','level','song']\\\n",
        "                      ).groupby(['date','level']).agg(F.count(col('sessionId')), F.countDistinct(col('userId')),\\\n",
        "                                                      F.count(col('song')))\n",
        "\n",
        "# Export to pandas for visualization\n",
        "df_time = time.toPandas()\n",
        "df_time.head()\n",
        "\n",
        "# Count session over time\n",
        "date = df_time['date']\n",
        "count = df_time['count(sessionId)']\n",
        "\n",
        "plt.gca().xaxis.set_major_formatter(mdates.DateFormatter('%m/%d/%Y'))\n",
        "plt.gca().xaxis.set_major_locator(mdates.DayLocator(interval=15))\n",
        "\n",
        "# beautifying the labels\n",
        "plt.plot_date(df_time['date'][df_time.level == \"paid\"], df_time['count(sessionId)'][df_time.level == \"paid\"], label = 'paid')\n",
        "plt.plot_date(df_time['date'][df_time.level == \"free\"], df_time['count(sessionId)'][df_time.level == \"free\"], label = 'free')\n",
        "plt.legend()\n",
        "plt.ylabel('Count Session')\n",
        "plt.xlabel('Date')\n",
        "plt.title('User Session Summary')\n",
        "plt.show()"
      ],
      "metadata": {
        "colab": {
          "base_uri": "https://localhost:8080/",
          "height": 295
        },
        "id": "6i_gW3vn_Pz8",
        "outputId": "86722872-581b-47a6-8c41-41701269500c"
      },
      "execution_count": null,
      "outputs": [
        {
          "output_type": "display_data",
          "data": {
            "text/plain": [
              "<Figure size 432x288 with 1 Axes>"
            ],
            "image/png": "[encoded data removed]"
          },
          "metadata": {
            "needs_background": "light"
          }
        }
      ]
    },
    {
      "cell_type": "code",
      "source": [
        "# Count user over time\n",
        "date = df_time['date']\n",
        "count = df_time['count(userId)']\n",
        "\n",
        "plt.gca().xaxis.set_major_formatter(mdates.DateFormatter('%m/%d/%Y'))\n",
        "plt.gca().xaxis.set_major_locator(mdates.DayLocator(interval=15))\n",
        "\n",
        "plt.plot_date(df_time['date'][df_time.level == \"paid\"], count[df_time.level == \"paid\"], label = 'paid')\n",
        "plt.plot_date(df_time['date'][df_time.level == \"free\"], count[df_time.level == \"free\"], label = 'free')\n",
        "plt.ylabel('Distinct User')\n",
        "plt.xlabel('Date')\n",
        "plt.title('Distinct User Summary')\n",
        "plt.legend()\n",
        "plt.show()"
      ],
      "metadata": {
        "colab": {
          "base_uri": "https://localhost:8080/",
          "height": 295
        },
        "id": "tjSUosbL_Trn",
        "outputId": "fdaadaf3-a81c-4c4b-938a-54a36f882029"
      },
      "execution_count": null,
      "outputs": [
        {
          "output_type": "display_data",
          "data": {
            "text/plain": [
              "<Figure size 432x288 with 1 Axes>"
            ],
            "image/png": "[encoded data removed]"
          },
          "metadata": {
            "needs_background": "light"
          }
        }
      ]
    },
    {
      "cell_type": "markdown",
      "source": [
        "# User churn since registration\n",
        "How long will a user stay on Sparkify before they churn? From the histogram of user age at the time of churn, we can see most churns happens within 100 days after registration.\n"
      ],
      "metadata": {
        "id": "A3K0YB57JHTR"
      }
    },
    {
      "cell_type": "code",
      "source": [
        "# User registration date\n",
        "df_cancel = df_clean.withColumn('date_created', F.to_date(F.from_unixtime(col('registration')/lit(1000))))\n",
        "# Get user age at the activity date\n",
        "df_cancel = df_cancel.withColumn('user_age',F.datediff(col('date'),col('date_created')))\n",
        "#User cancel by age\n",
        "df_cancel = df_cancel.filter(col('cancel') == 1).select(['date','user_age','level']).toPandas()\n",
        "\n",
        "df_cancel['user_age'].plot(kind='hist')"
      ],
      "metadata": {
        "colab": {
          "base_uri": "https://localhost:8080/",
          "height": 283
        },
        "id": "xaeTGpHVD1ok",
        "outputId": "68fb55d5-02d6-41f1-cf87-e1ae256de693"
      },
      "execution_count": null,
      "outputs": [
        {
          "output_type": "execute_result",
          "data": {
            "text/plain": [
              "<matplotlib.axes._subplots.AxesSubplot at 0x7f1241a72d90>"
            ]
          },
          "metadata": {},
          "execution_count": 20
        },
        {
          "output_type": "display_data",
          "data": {
            "text/plain": [
              "<Figure size 432x288 with 1 Axes>"
            ],
            "image/png": "[encoded data removed]"
          },
          "metadata": {
            "needs_background": "light"
          }
        }
      ]
    },
    {
      "cell_type": "markdown",
      "source": [
        "# Features engineering\n",
        "Based on the analysis carried out still now thanks to EDA, we are ready to extract the features that actually will allow us to understand clients more prone to churn.\n",
        "\n",
        "In this regards, I decided to define the following 11 features:\n",
        "- `gender`: male or female\n",
        "- `days_registered`: number of days the user is registered\n",
        "- `paid_user`: free account or premium account\n",
        "- `downgraded`: has the user ever downgraded from premium to free?\n",
        "- `artists`: average number of artits listened per session by the user\n",
        "- `songs`: average number of songs listened per session by the user \n",
        "- `length`: average second listened of songs per session by the user\n",
        "- `interactions`: average proactive operations performed by the user per session \n",
        "- `thumbs_down`: average thumbs down released by the user per session\n",
        "- `total_session`: total number of session \n",
        "- `session_gap`: average time between each session and the pevious one\n",
        "\n",
        "The operations aimed at their extrapolation have been defined inside the function `exctract_features()` below.\n"
      ],
      "metadata": {
        "id": "xogQuxOmJ6PJ"
      }
    },
    {
      "cell_type": "code",
      "source": [
        "def extract_features(df_input):\n",
        "\n",
        "    # User registration date\n",
        "    df_feat = df_input.withColumn('date_created', F.to_date(F.from_unixtime(col('registration')/lit(1000))))\n",
        "    # Get user age at the activity date\n",
        "    df_feat = df_feat.withColumn('days_registered',F.datediff(col('date'),col('date_created')))\n",
        "\n",
        "    # Get user interactions except for playing songs\n",
        "    inter = ['Thumbs Up', 'Add to Playlist', 'Add Friend', 'Thumns Down']\n",
        "    get_interactions = udf(lambda x: 1 if x in inter else 0, IntegerType())\n",
        "\n",
        "    # Get negative feedback from user\n",
        "    thumbs_up = udf(lambda x: 1 if x == 'Thumbs Up' else 0, IntegerType())\n",
        "    \n",
        "    df_feat = df_feat.withColumn('interactions', get_interactions('page'))\n",
        "    df_feat = df_feat.withColumn('thumbs_up', thumbs_up('page'))\n",
        "\n",
        "    # Get number of songs played\n",
        "    songs = udf(lambda x: 1 if x == 'NextSong' else 0, IntegerType())\n",
        "    df_feat = df_feat.withColumn('songs', songs('page'))\n",
        "\n",
        "    # Has the user ever used paied service\n",
        "    paid_hist = udf(lambda x: 1 if x == 'paid' else 0, IntegerType())\n",
        "    df_feat = df_feat.withColumn('paid_hist', paid_hist('level'))\n",
        "\n",
        "    # Has the user ever downgraded\n",
        "    downgrade = udf(lambda x: 1 if x == 'Submit Downgrade' else 0, IntegerType())\n",
        "    df_feat = df_feat.withColumn('downgraded', downgrade('page'))\n",
        "\n",
        "    # Get user level dimensions\n",
        "    dims = df_feat.groupby('userId','female','date_created').agg(\\\n",
        "                                                          max('days_registered').alias('days_registered'),\\\n",
        "                                                          max('paid_hist').alias('paid_user'),\\\n",
        "                                                          max('downgraded').alias('downgraded'),\\\n",
        "                                                          max('cancel').alias('canceled'))\n",
        "\n",
        "    # Get measures based on usersessions and interactions\n",
        "    measures = df_feat.groupby('userId','sessionId').agg(\\\n",
        "                                                          min('date').alias('start_date'),\\\n",
        "                                                          max('date').alias('end_date'),\\\n",
        "                                                          sum('interactions').alias('interactions'),\\\n",
        "                                                          sum('thumbs_up').alias('thumbs_up'),\\\n",
        "                                                          sum('songs').alias('songs'),\\\n",
        "                                                          sum('length').alias('length'),\\\n",
        "                                                          countDistinct('artist').alias('c_artist'))\n",
        "    \n",
        "    # Get the date gap between sessions\n",
        "\n",
        "    #get the previous end date\n",
        "    measures_lag = measures.withColumn('prev_end_date',\n",
        "                            F.lag(col('end_date')).over(Window.partitionBy('userID').orderBy('start_date')))\n",
        "\n",
        "    measures_lag = measures_lag.withColumn('session_gap', F.datediff(col('start_date'),col('prev_end_date')))\n",
        "\n",
        "    measures_agg = measures_lag.groupby('userId').agg(\\\n",
        "                                                    F.count('sessionId').alias('total_session'),\\\n",
        "                                                    avg('interactions').alias('interactions'),\\\n",
        "                                                    avg('thumbs_up').alias('thumbs_up'),\\\n",
        "                                                    avg('songs').alias('songs'),\\\n",
        "                                                    avg('length').alias('length'),\\\n",
        "                                                    avg('c_artist').alias('artists'),\\\n",
        "                                                    avg('session_gap').alias('session_gap'))\n",
        "    \n",
        "    # Join dims and measures\n",
        "    output = dims.join(measures_agg, on = 'userId')\n",
        "\n",
        "    return output"
      ],
      "metadata": {
        "id": "KA45IOumxyam"
      },
      "execution_count": null,
      "outputs": []
    },
    {
      "cell_type": "code",
      "source": [
        "output = extract_features(df_clean)\n",
        "output.show(5)"
      ],
      "metadata": {
        "colab": {
          "base_uri": "https://localhost:8080/"
        },
        "id": "McbZIiIQx0t7",
        "outputId": "45283ea8-59a8-4eb4-8ea7-3d7eba3cde80"
      },
      "execution_count": null,
      "outputs": [
        {
          "output_type": "stream",
          "name": "stdout",
          "text": [
            "+------+------+------------+---------------+---------+----------+--------+-------------+-----------------+-----------------+------------------+------------------+------------------+------------------+\n",
            "|userId|female|date_created|days_registered|paid_user|downgraded|canceled|total_session|     interactions|        thumbs_up|             songs|            length|           artists|       session_gap|\n",
            "+------+------+------------+---------------+---------+----------+--------+-------------+-----------------+-----------------+------------------+------------------+------------------+------------------+\n",
            "|    10|     0|  2018-09-28|             52|        1|         0|       0|            6|9.666666666666666|6.166666666666667|112.16666666666667|      27811.062085|104.66666666666667|               8.0|\n",
            "|   100|     0|  2018-09-26|             65|        1|         1|       0|           35|7.371428571428571|4.228571428571429| 76.62857142857143|19790.525193823534| 72.45714285714286|1.5294117647058822|\n",
            "|100001|     1|  2018-08-18|             45|        0|         0|       1|            4|             3.25|              2.0|             33.25|      8768.4355375|              33.0|0.3333333333333333|\n",
            "|100002|     1|  2018-06-25|            161|        1|         0|       0|            4|             2.75|             1.25|             48.75|12389.979525000004|              46.5|18.333333333333332|\n",
            "|100003|     1|  2018-09-18|             23|        0|         0|       1|            2|              2.5|              1.5|              25.5|        6153.20966|              25.0|               2.0|\n",
            "+------+------+------------+---------------+---------+----------+--------+-------------+-----------------+-----------------+------------------+------------------+------------------+------------------+\n",
            "only showing top 5 rows\n",
            "\n"
          ]
        }
      ]
    },
    {
      "cell_type": "markdown",
      "source": [
        "# Features distribution"
      ],
      "metadata": {
        "id": "3C46OvSTNUBc"
      }
    },
    {
      "cell_type": "code",
      "source": [
        "# Inspect aggregated data\n",
        "model_df = output.toPandas()\n",
        "hist = model_df.hist(figsize = (10,10))"
      ],
      "metadata": {
        "colab": {
          "base_uri": "https://localhost:8080/",
          "height": 607
        },
        "id": "5_K3cmHZK8Hf",
        "outputId": "084b0adf-ed3e-4f94-dabc-a404223feb81"
      },
      "execution_count": null,
      "outputs": [
        {
          "output_type": "display_data",
          "data": {
            "text/plain": [
              "<Figure size 720x720 with 12 Axes>"
            ],
            "image/png": "[encoded data removed]"
          },
          "metadata": {
            "needs_background": "light"
          }
        }
      ]
    },
    {
      "cell_type": "markdown",
      "source": [
        "# Target class distribution\n",
        "Just have a look more in detail to our target variable canceled."
      ],
      "metadata": {
        "id": "EYtPobGFN7k7"
      }
    },
    {
      "cell_type": "code",
      "source": [
        "def get_class_distribution(df_input, col):\n",
        "    \"\"\"\n",
        "    Function to plot class distribution\n",
        "    \"\"\"\n",
        "    label_count = df_input[col].value_counts() \n",
        "\n",
        "    # bar plot\n",
        "    plot = sns.barplot(list(label_count.index), list(label_count.values)) \n",
        "    plt.title('Class Distribution')\n",
        "    plt.xlabel('Class Label')\n",
        "    plt.ylabel('Count')\n",
        "\n",
        "    # adding class count to the barplot\n",
        "    for patch in plot.patches:\n",
        "        # formatting and positioning the count values\n",
        "        plot.annotate('{:n}'.format(patch.get_height()), \n",
        "                      (patch.get_x()+0.35, patch.get_height()+1)) \n",
        "    plt.show()"
      ],
      "metadata": {
        "id": "i-K2mj4c896t"
      },
      "execution_count": null,
      "outputs": []
    },
    {
      "cell_type": "code",
      "source": [
        "def percentage_cls_distrib(df_input):\n",
        "    \"\"\"\n",
        "    function to get % class distribution among train and test data\n",
        "    \"\"\"\n",
        "    total = len(df_input)\n",
        "    class_0 = round(df_input.value_counts()[0] *100 / total, 2)\n",
        "    class_1 = round(df_input.value_counts()[1] *100 / total, 2)\n",
        "    print(f\"% Negative class data points = {class_0}\")\n",
        "    print(f\"% Positive class data points= {class_1}\")"
      ],
      "metadata": {
        "id": "r76EiRcJ93QP"
      },
      "execution_count": null,
      "outputs": []
    },
    {
      "cell_type": "code",
      "source": [
        "get_class_distribution(model_df, \"canceled\")\n",
        "print()\n",
        "percentage_cls_distrib(model_df[\"canceled\"])"
      ],
      "metadata": {
        "colab": {
          "base_uri": "https://localhost:8080/",
          "height": 404
        },
        "id": "-qG8TABs9M_A",
        "outputId": "73275bfe-8f85-45d5-bd4a-06e8405f80e1"
      },
      "execution_count": null,
      "outputs": [
        {
          "output_type": "stream",
          "name": "stderr",
          "text": [
            "/usr/local/lib/python3.8/dist-packages/seaborn/_decorators.py:36: FutureWarning: Pass the following variables as keyword args: x, y. From version 0.12, the only valid positional argument will be `data`, and passing other arguments without an explicit keyword will result in an error or misinterpretation.\n",
            "  warnings.warn(\n"
          ]
        },
        {
          "output_type": "display_data",
          "data": {
            "text/plain": [
              "<Figure size 432x288 with 1 Axes>"
            ],
            "image/png": "[encoded data removed]"
          },
          "metadata": {
            "needs_background": "light"
          }
        },
        {
          "output_type": "stream",
          "name": "stdout",
          "text": [
            "\n",
            "% Negative class data points = 76.89\n",
            "% Positive class data points= 23.11\n"
          ]
        }
      ]
    },
    {
      "cell_type": "markdown",
      "source": [
        "As shown by the plot, there is an *high imbalanced class ratio*. Positive class is only about 23% of the total distribution."
      ],
      "metadata": {
        "id": "uewSiodrOWlD"
      }
    },
    {
      "cell_type": "markdown",
      "source": [
        "# Correlation among features \n"
      ],
      "metadata": {
        "id": "JGqvFIebOn9D"
      }
    },
    {
      "cell_type": "code",
      "source": [
        "# Get correlations\n",
        "\n",
        "# Calculate pairwise-correlation\n",
        "matrix = model_df.corr()\n",
        "\n",
        "# Create a mask\n",
        "mask = np.triu(np.ones_like(matrix, dtype=bool))\n",
        "\n",
        "# Create a custom divergin palette\n",
        "cmap = sns.diverging_palette(100, 7, s=75, l=40,\n",
        "                            n=5, center=\"light\", as_cmap=True)\n",
        "\n",
        "plt.figure(figsize=(10, 10))\n",
        "sns.heatmap(matrix, mask=mask, center=0, annot=True,\n",
        "            fmt='.2f', square=True, cmap=cmap)\n",
        "\n",
        "plt.show();"
      ],
      "metadata": {
        "colab": {
          "base_uri": "https://localhost:8080/",
          "height": 612
        },
        "id": "CA_A2r8wLeQI",
        "outputId": "d1cffd0c-8388-4580-eb0c-7ed00eac9682"
      },
      "execution_count": null,
      "outputs": [
        {
          "output_type": "display_data",
          "data": {
            "text/plain": [
              "<Figure size 720x720 with 2 Axes>"
            ],
            "image/png": "[encoded data removed]"
          },
          "metadata": {
            "needs_background": "light"
          }
        }
      ]
    },
    {
      "cell_type": "markdown",
      "source": [
        "# Features selection\n",
        "There is no obvious strong predictor for `cancelled` except for `user_age`\n",
        "\n",
        "`songs`, `interactions`, `thumbs_up`, `length`, `artists` are very similar according to the histograms. Although they all show high correlation with each other, this is possibly caused by the small dataset (225 users). If we have more data, we might see more variance in user behaviors. Therefore, we will **only exclude songs and artists** as they will always be similar to length ."
      ],
      "metadata": {
        "id": "_CS86RtGPS-7"
      }
    },
    {
      "cell_type": "markdown",
      "source": [
        "# Example of distribution between correlated features \n",
        "To give a further proof of the linear dependence among `length`, `artist` and `songs`, their interactions plots are shown:"
      ],
      "metadata": {
        "id": "tm9b5UqjQdpU"
      }
    },
    {
      "cell_type": "code",
      "source": [
        "import matplotlib.patches as mpatches\n",
        "import matplotlib\n",
        "\n",
        "data_np=output.toPandas()\n",
        "target=data_np.canceled\n",
        "\n",
        "# variables to \n",
        "LENGTH = data_np['length'].to_numpy()\n",
        "SONGS = data_np['songs'].to_numpy()\n",
        "ARTISTS = data_np['artists'].to_numpy()\n",
        "\n",
        "fig, ax = plt.subplots(1,3, figsize= (15,6))\n",
        "\n",
        "labels=[\"Not Churn\",\"Churn\"]\n",
        "pop_a = mpatches.Patch(color='steelblue', label='Not Churn')\n",
        "pop_b = mpatches.Patch(color='crimson', label='Churn')\n",
        "colors=['crimson', 'steelblue']\n",
        "\n",
        "ax[0].scatter(LENGTH, SONGS, c=target, cmap=matplotlib.colors.ListedColormap(colors), label=labels, alpha=0.5)\n",
        "ax[0].grid()\n",
        "ax[0].set_xlabel('LENGTH')\n",
        "ax[0].set_ylabel('SONGS')\n",
        "ax[0].legend(handles= [pop_a,pop_b])\n",
        "\n",
        "ax[1].scatter(LENGTH, ARTISTS, c=target, cmap=matplotlib.colors.ListedColormap(colors), alpha=0.5)\n",
        "ax[1].grid()\n",
        "ax[1].set_xlabel('LENGTH')\n",
        "ax[1].set_ylabel('ARTISTS')\n",
        "ax[1].legend(handles= [pop_a,pop_b])\n",
        "\n",
        "ax[2].scatter(SONGS, ARTISTS, c=target, cmap=matplotlib.colors.ListedColormap(colors), alpha=0.5)\n",
        "ax[2].grid()\n",
        "ax[2].set_xlabel('SONGS')\n",
        "ax[2].set_ylabel('ARTISTS')\n",
        "ax[2].legend(handles= [pop_a,pop_b])\n",
        "\n",
        "plt.tight_layout()# let's make good plots\n",
        "plt.show()"
      ],
      "metadata": {
        "colab": {
          "base_uri": "https://localhost:8080/",
          "height": 441
        },
        "id": "y1dXF32RKtkR",
        "outputId": "7d0e058f-4c17-46dc-be73-22bb7ae8bd64"
      },
      "execution_count": null,
      "outputs": [
        {
          "output_type": "display_data",
          "data": {
            "text/plain": [
              "<Figure size 1080x432 with 3 Axes>"
            ],
            "image/png": "[encoded data removed]"
          },
          "metadata": {
            "needs_background": "light"
          }
        }
      ]
    },
    {
      "cell_type": "markdown",
      "source": [
        "The charts confirm what expected, the features in the same graph shows a linear trend as the Pearson coefficient suggested, indicating they encode pretty similar information."
      ],
      "metadata": {
        "id": "ZtFg8oCvSUo7"
      }
    },
    {
      "cell_type": "markdown",
      "source": [
        "# Example of distribution between un-correlated features \n",
        "For completness, also charts of non-strongly correlated features are reported. In particular:\n",
        "- ***interactions*** and ***total_session*** $p$ = 0.07\n",
        "- ***interactions*** and ***session_gap*** $p$ = -0.17\n",
        "- ***days_registered*** and ***total_session*** $p$ = 0.20"
      ],
      "metadata": {
        "id": "HhqhP9zPQo3R"
      }
    },
    {
      "cell_type": "code",
      "source": [
        "import matplotlib.patches as mpatches\n",
        "import matplotlib\n",
        "\n",
        "data_np=output.toPandas()\n",
        "target=data_np.canceled\n",
        "\n",
        "# variables to \n",
        "INTERACTIONS = data_np['interactions'].to_numpy()\n",
        "SESSIONS = data_np['total_session'].to_numpy()\n",
        "SESSION_GAP = data_np['session_gap'].to_numpy()\n",
        "DAYS_REGISTERED = data_np['days_registered'].to_numpy()\n",
        "\n",
        "fig, ax = plt.subplots(1,3, figsize= (15,6))\n",
        "\n",
        "labels=[\"Not Churn\",\"Churn\"]\n",
        "pop_a = mpatches.Patch(color='steelblue', label='Not Churn')\n",
        "pop_b = mpatches.Patch(color='crimson', label='Churn')\n",
        "colors=['crimson', 'steelblue']\n",
        "\n",
        "ax[0].scatter(INTERACTIONS, SESSIONS, c=target, cmap=matplotlib.colors.ListedColormap(colors), label=labels, alpha=0.5)\n",
        "ax[0].grid()\n",
        "ax[0].set_xlabel('INTERACTIONS')\n",
        "ax[0].set_ylabel('SESSIONS')\n",
        "ax[0].legend(handles= [pop_a,pop_b])\n",
        "\n",
        "ax[1].scatter(INTERACTIONS, SESSION_GAP, c=target, cmap=matplotlib.colors.ListedColormap(colors), alpha=0.5)\n",
        "ax[1].grid()\n",
        "ax[1].set_xlabel('INTERACTIONS')\n",
        "ax[1].set_ylabel('SESSION_GAP')\n",
        "ax[1].legend(handles= [pop_a,pop_b])\n",
        "\n",
        "ax[2].scatter(SESSIONS, DAYS_REGISTERED, c=target, cmap=matplotlib.colors.ListedColormap(colors), alpha=0.5)\n",
        "ax[2].grid()\n",
        "ax[2].set_xlabel('SESSIONS')\n",
        "ax[2].set_ylabel('DAYS_REGISTERED')\n",
        "ax[2].legend(handles= [pop_a,pop_b])\n",
        "\n",
        "plt.tight_layout()# let's make good plots\n",
        "plt.show()"
      ],
      "metadata": {
        "colab": {
          "base_uri": "https://localhost:8080/",
          "height": 441
        },
        "id": "hfIpJH1zNl6I",
        "outputId": "2dd2a027-9e1d-4e4d-9627-edc83ff47bb5"
      },
      "execution_count": null,
      "outputs": [
        {
          "output_type": "display_data",
          "data": {
            "text/plain": [
              "<Figure size 1080x432 with 3 Axes>"
            ],
            "image/png": "[encoded data removed]"
          },
          "metadata": {
            "needs_background": "light"
          }
        }
      ]
    },
    {
      "cell_type": "markdown",
      "source": [
        "# Outliers removal\n",
        "There is a particular category of users to consider before making inference: the users whose total session is equal to 1. They are probably new users just entered in the application and their session_gap is indeed equal to NaN.  However, here we are trying to predict people who used to be an active user but decides to leave. For this reason, they are out of the scope of our analysis and we will exclude them from the prediction."
      ],
      "metadata": {
        "id": "P31fIPihURmZ"
      }
    },
    {
      "cell_type": "code",
      "source": [
        "# Inspect aggregated data\n",
        "model_df.loc[model_df.isnull().sum(axis = 1) > 0]"
      ],
      "metadata": {
        "colab": {
          "base_uri": "https://localhost:8080/",
          "height": 584
        },
        "id": "xfdhIgDUReYz",
        "outputId": "d5cf3d65-fcbd-4a70-f301-85ee29f91922"
      },
      "execution_count": null,
      "outputs": [
        {
          "output_type": "execute_result",
          "data": {
            "text/plain": [
              "     userId  female date_created  days_registered  paid_user  downgraded  \\\n",
              "7    100006       1   2018-09-26                9          0           0   \n",
              "12   100011       0   2018-09-26                5          0           0   \n",
              "18   100017       0   2018-08-02               79          0           0   \n",
              "24   100024       0   2018-09-07               27          0           0   \n",
              "52      125       0   2018-08-01               72          0           0   \n",
              "60      133       0   2018-09-05               40          0           0   \n",
              "62      135       1   2018-07-24               72          0           0   \n",
              "80      151       0   2018-09-25               42          1           0   \n",
              "85      156       0   2018-11-26                0          0           0   \n",
              "89       19       1   2018-09-18               22          1           0   \n",
              "129  300003       0   2018-07-05               99          0           0   \n",
              "133  300007       0   2018-09-23               12          1           0   \n",
              "150  300024       1   2018-09-10               39          1           0   \n",
              "185      63       1   2018-09-22               39          0           0   \n",
              "195      72       1   2018-07-05              124          0           0   \n",
              "\n",
              "     canceled  total_session  interactions  thumbs_up  songs       length  \\\n",
              "7           1              1           7.0        2.0   26.0   5854.89105   \n",
              "12          1              1           2.0        0.0   11.0   2841.69950   \n",
              "18          1              1           3.0        2.0   52.0  12261.72340   \n",
              "24          1              1           5.0        5.0   22.0   5160.53207   \n",
              "52          1              1           0.0        0.0    8.0   2089.11310   \n",
              "60          0              1           6.0        2.0   32.0   8029.16428   \n",
              "62          0              1           0.0        0.0    6.0   1596.44461   \n",
              "80          0              1           9.0        4.0  138.0  32481.13906   \n",
              "85          0              1           0.0        0.0    3.0    691.66884   \n",
              "89          0              1          17.0        5.0  216.0  54480.93387   \n",
              "129         0              1           3.0        2.0   27.0   6567.87674   \n",
              "133         1              1          19.0       11.0  111.0  28028.71048   \n",
              "150         0              1          10.0        6.0   88.0  22698.64417   \n",
              "185         0              1           7.0        6.0   87.0  23151.84299   \n",
              "195         0              1          12.0        6.0   85.0  19961.03902   \n",
              "\n",
              "     artists  session_gap  \n",
              "7       26.0          NaN  \n",
              "12      11.0          NaN  \n",
              "18      51.0          NaN  \n",
              "24      22.0          NaN  \n",
              "52       8.0          NaN  \n",
              "60      32.0          NaN  \n",
              "62       6.0          NaN  \n",
              "80     132.0          NaN  \n",
              "85       3.0          NaN  \n",
              "89     197.0          NaN  \n",
              "129     26.0          NaN  \n",
              "133    107.0          NaN  \n",
              "150     85.0          NaN  \n",
              "185     83.0          NaN  \n",
              "195     82.0          NaN  "
            ],
            "text/html": [
              "\n",
              "  <div id=\"df-259ddb79-30f9-4917-857c-11e5e8085020\">\n",
              "    <div class=\"colab-df-container\">\n",
              "      <div>\n",
              "<style scoped>\n",
              "    .dataframe tbody tr th:only-of-type {\n",
              "        vertical-align: middle;\n",
              "    }\n",
              "\n",
              "    .dataframe tbody tr th {\n",
              "        vertical-align: top;\n",
              "    }\n",
              "\n",
              "    .dataframe thead th {\n",
              "        text-align: right;\n",
              "    }\n",
              "</style>\n",
              "<table border=\"1\" class=\"dataframe\">\n",
              "  <thead>\n",
              "    <tr style=\"text-align: right;\">\n",
              "      <th></th>\n",
              "      <th>userId</th>\n",
              "      <th>female</th>\n",
              "      <th>date_created</th>\n",
              "      <th>days_registered</th>\n",
              "      <th>paid_user</th>\n",
              "      <th>downgraded</th>\n",
              "      <th>canceled</th>\n",
              "      <th>total_session</th>\n",
              "      <th>interactions</th>\n",
              "      <th>thumbs_up</th>\n",
              "      <th>songs</th>\n",
              "      <th>length</th>\n",
              "      <th>artists</th>\n",
              "      <th>session_gap</th>\n",
              "    </tr>\n",
              "  </thead>\n",
              "  <tbody>\n",
              "    <tr>\n",
              "      <th>7</th>\n",
              "      <td>100006</td>\n",
              "      <td>1</td>\n",
              "      <td>2018-09-26</td>\n",
              "      <td>9</td>\n",
              "      <td>0</td>\n",
              "      <td>0</td>\n",
              "      <td>1</td>\n",
              "      <td>1</td>\n",
              "      <td>7.0</td>\n",
              "      <td>2.0</td>\n",
              "      <td>26.0</td>\n",
              "      <td>5854.89105</td>\n",
              "      <td>26.0</td>\n",
              "      <td>NaN</td>\n",
              "    </tr>\n",
              "    <tr>\n",
              "      <th>12</th>\n",
              "      <td>100011</td>\n",
              "      <td>0</td>\n",
              "      <td>2018-09-26</td>\n",
              "      <td>5</td>\n",
              "      <td>0</td>\n",
              "      <td>0</td>\n",
              "      <td>1</td>\n",
              "      <td>1</td>\n",
              "      <td>2.0</td>\n",
              "      <td>0.0</td>\n",
              "      <td>11.0</td>\n",
              "      <td>2841.69950</td>\n",
              "      <td>11.0</td>\n",
              "      <td>NaN</td>\n",
              "    </tr>\n",
              "    <tr>\n",
              "      <th>18</th>\n",
              "      <td>100017</td>\n",
              "      <td>0</td>\n",
              "      <td>2018-08-02</td>\n",
              "      <td>79</td>\n",
              "      <td>0</td>\n",
              "      <td>0</td>\n",
              "      <td>1</td>\n",
              "      <td>1</td>\n",
              "      <td>3.0</td>\n",
              "      <td>2.0</td>\n",
              "      <td>52.0</td>\n",
              "      <td>12261.72340</td>\n",
              "      <td>51.0</td>\n",
              "      <td>NaN</td>\n",
              "    </tr>\n",
              "    <tr>\n",
              "      <th>24</th>\n",
              "      <td>100024</td>\n",
              "      <td>0</td>\n",
              "      <td>2018-09-07</td>\n",
              "      <td>27</td>\n",
              "      <td>0</td>\n",
              "      <td>0</td>\n",
              "      <td>1</td>\n",
              "      <td>1</td>\n",
              "      <td>5.0</td>\n",
              "      <td>5.0</td>\n",
              "      <td>22.0</td>\n",
              "      <td>5160.53207</td>\n",
              "      <td>22.0</td>\n",
              "      <td>NaN</td>\n",
              "    </tr>\n",
              "    <tr>\n",
              "      <th>52</th>\n",
              "      <td>125</td>\n",
              "      <td>0</td>\n",
              "      <td>2018-08-01</td>\n",
              "      <td>72</td>\n",
              "      <td>0</td>\n",
              "      <td>0</td>\n",
              "      <td>1</td>\n",
              "      <td>1</td>\n",
              "      <td>0.0</td>\n",
              "      <td>0.0</td>\n",
              "      <td>8.0</td>\n",
              "      <td>2089.11310</td>\n",
              "      <td>8.0</td>\n",
              "      <td>NaN</td>\n",
              "    </tr>\n",
              "    <tr>\n",
              "      <th>60</th>\n",
              "      <td>133</td>\n",
              "      <td>0</td>\n",
              "      <td>2018-09-05</td>\n",
              "      <td>40</td>\n",
              "      <td>0</td>\n",
              "      <td>0</td>\n",
              "      <td>0</td>\n",
              "      <td>1</td>\n",
              "      <td>6.0</td>\n",
              "      <td>2.0</td>\n",
              "      <td>32.0</td>\n",
              "      <td>8029.16428</td>\n",
              "      <td>32.0</td>\n",
              "      <td>NaN</td>\n",
              "    </tr>\n",
              "    <tr>\n",
              "      <th>62</th>\n",
              "      <td>135</td>\n",
              "      <td>1</td>\n",
              "      <td>2018-07-24</td>\n",
              "      <td>72</td>\n",
              "      <td>0</td>\n",
              "      <td>0</td>\n",
              "      <td>0</td>\n",
              "      <td>1</td>\n",
              "      <td>0.0</td>\n",
              "      <td>0.0</td>\n",
              "      <td>6.0</td>\n",
              "      <td>1596.44461</td>\n",
              "      <td>6.0</td>\n",
              "      <td>NaN</td>\n",
              "    </tr>\n",
              "    <tr>\n",
              "      <th>80</th>\n",
              "      <td>151</td>\n",
              "      <td>0</td>\n",
              "      <td>2018-09-25</td>\n",
              "      <td>42</td>\n",
              "      <td>1</td>\n",
              "      <td>0</td>\n",
              "      <td>0</td>\n",
              "      <td>1</td>\n",
              "      <td>9.0</td>\n",
              "      <td>4.0</td>\n",
              "      <td>138.0</td>\n",
              "      <td>32481.13906</td>\n",
              "      <td>132.0</td>\n",
              "      <td>NaN</td>\n",
              "    </tr>\n",
              "    <tr>\n",
              "      <th>85</th>\n",
              "      <td>156</td>\n",
              "      <td>0</td>\n",
              "      <td>2018-11-26</td>\n",
              "      <td>0</td>\n",
              "      <td>0</td>\n",
              "      <td>0</td>\n",
              "      <td>0</td>\n",
              "      <td>1</td>\n",
              "      <td>0.0</td>\n",
              "      <td>0.0</td>\n",
              "      <td>3.0</td>\n",
              "      <td>691.66884</td>\n",
              "      <td>3.0</td>\n",
              "      <td>NaN</td>\n",
              "    </tr>\n",
              "    <tr>\n",
              "      <th>89</th>\n",
              "      <td>19</td>\n",
              "      <td>1</td>\n",
              "      <td>2018-09-18</td>\n",
              "      <td>22</td>\n",
              "      <td>1</td>\n",
              "      <td>0</td>\n",
              "      <td>0</td>\n",
              "      <td>1</td>\n",
              "      <td>17.0</td>\n",
              "      <td>5.0</td>\n",
              "      <td>216.0</td>\n",
              "      <td>54480.93387</td>\n",
              "      <td>197.0</td>\n",
              "      <td>NaN</td>\n",
              "    </tr>\n",
              "    <tr>\n",
              "      <th>129</th>\n",
              "      <td>300003</td>\n",
              "      <td>0</td>\n",
              "      <td>2018-07-05</td>\n",
              "      <td>99</td>\n",
              "      <td>0</td>\n",
              "      <td>0</td>\n",
              "      <td>0</td>\n",
              "      <td>1</td>\n",
              "      <td>3.0</td>\n",
              "      <td>2.0</td>\n",
              "      <td>27.0</td>\n",
              "      <td>6567.87674</td>\n",
              "      <td>26.0</td>\n",
              "      <td>NaN</td>\n",
              "    </tr>\n",
              "    <tr>\n",
              "      <th>133</th>\n",
              "      <td>300007</td>\n",
              "      <td>0</td>\n",
              "      <td>2018-09-23</td>\n",
              "      <td>12</td>\n",
              "      <td>1</td>\n",
              "      <td>0</td>\n",
              "      <td>1</td>\n",
              "      <td>1</td>\n",
              "      <td>19.0</td>\n",
              "      <td>11.0</td>\n",
              "      <td>111.0</td>\n",
              "      <td>28028.71048</td>\n",
              "      <td>107.0</td>\n",
              "      <td>NaN</td>\n",
              "    </tr>\n",
              "    <tr>\n",
              "      <th>150</th>\n",
              "      <td>300024</td>\n",
              "      <td>1</td>\n",
              "      <td>2018-09-10</td>\n",
              "      <td>39</td>\n",
              "      <td>1</td>\n",
              "      <td>0</td>\n",
              "      <td>0</td>\n",
              "      <td>1</td>\n",
              "      <td>10.0</td>\n",
              "      <td>6.0</td>\n",
              "      <td>88.0</td>\n",
              "      <td>22698.64417</td>\n",
              "      <td>85.0</td>\n",
              "      <td>NaN</td>\n",
              "    </tr>\n",
              "    <tr>\n",
              "      <th>185</th>\n",
              "      <td>63</td>\n",
              "      <td>1</td>\n",
              "      <td>2018-09-22</td>\n",
              "      <td>39</td>\n",
              "      <td>0</td>\n",
              "      <td>0</td>\n",
              "      <td>0</td>\n",
              "      <td>1</td>\n",
              "      <td>7.0</td>\n",
              "      <td>6.0</td>\n",
              "      <td>87.0</td>\n",
              "      <td>23151.84299</td>\n",
              "      <td>83.0</td>\n",
              "      <td>NaN</td>\n",
              "    </tr>\n",
              "    <tr>\n",
              "      <th>195</th>\n",
              "      <td>72</td>\n",
              "      <td>1</td>\n",
              "      <td>2018-07-05</td>\n",
              "      <td>124</td>\n",
              "      <td>0</td>\n",
              "      <td>0</td>\n",
              "      <td>0</td>\n",
              "      <td>1</td>\n",
              "      <td>12.0</td>\n",
              "      <td>6.0</td>\n",
              "      <td>85.0</td>\n",
              "      <td>19961.03902</td>\n",
              "      <td>82.0</td>\n",
              "      <td>NaN</td>\n",
              "    </tr>\n",
              "  </tbody>\n",
              "</table>\n",
              "</div>\n",
              "      <button class=\"colab-df-convert\" onclick=\"convertToInteractive('df-259ddb79-30f9-4917-857c-11e5e8085020')\"\n",
              "              title=\"Convert this dataframe to an interactive table.\"\n",
              "              style=\"display:none;\">\n",
              "        \n",
              "  <svg xmlns=\"http://www.w3.org/2000/svg\" height=\"24px\"viewBox=\"0 0 24 24\"\n",
              "       width=\"24px\">\n",
              "    <path d=\"M0 0h24v24H0V0z\" fill=\"none\"/>\n",
              "    <path d=\"M18.56 5.44l.94 2.06.94-2.06 2.06-.94-2.06-.94-.94-2.06-.94 2.06-2.06.94zm-11 1L8.5 8.5l.94-2.06 2.06-.94-2.06-.94L8.5 2.5l-.94 2.06-2.06.94zm10 10l.94 2.06.94-2.06 2.06-.94-2.06-.94-.94-2.06-.94 2.06-2.06.94z\"/><path d=\"M17.41 7.96l-1.37-1.37c-.4-.4-.92-.59-1.43-.59-.52 0-1.04.2-1.43.59L10.3 9.45l-7.72 7.72c-.78.78-.78 2.05 0 2.83L4 21.41c.39.39.9.59 1.41.59.51 0 1.02-.2 1.41-.59l7.78-7.78 2.81-2.81c.8-.78.8-2.07 0-2.86zM5.41 20L4 18.59l7.72-7.72 1.47 1.35L5.41 20z\"/>\n",
              "  </svg>\n",
              "      </button>\n",
              "      \n",
              "  <style>\n",
              "    .colab-df-container {\n",
              "      display:flex;\n",
              "      flex-wrap:wrap;\n",
              "      gap: 12px;\n",
              "    }\n",
              "\n",
              "    .colab-df-convert {\n",
              "      background-color: #E8F0FE;\n",
              "      border: none;\n",
              "      border-radius: 50%;\n",
              "      cursor: pointer;\n",
              "      display: none;\n",
              "      fill: #1967D2;\n",
              "      height: 32px;\n",
              "      padding: 0 0 0 0;\n",
              "      width: 32px;\n",
              "    }\n",
              "\n",
              "    .colab-df-convert:hover {\n",
              "      background-color: #E2EBFA;\n",
              "      box-shadow: 0px 1px 2px rgba(60, 64, 67, 0.3), 0px 1px 3px 1px rgba(60, 64, 67, 0.15);\n",
              "      fill: #174EA6;\n",
              "    }\n",
              "\n",
              "    [theme=dark] .colab-df-convert {\n",
              "      background-color: #3B4455;\n",
              "      fill: #D2E3FC;\n",
              "    }\n",
              "\n",
              "    [theme=dark] .colab-df-convert:hover {\n",
              "      background-color: #434B5C;\n",
              "      box-shadow: 0px 1px 3px 1px rgba(0, 0, 0, 0.15);\n",
              "      filter: drop-shadow(0px 1px 2px rgba(0, 0, 0, 0.3));\n",
              "      fill: #FFFFFF;\n",
              "    }\n",
              "  </style>\n",
              "\n",
              "      <script>\n",
              "        const buttonEl =\n",
              "          document.querySelector('#df-259ddb79-30f9-4917-857c-11e5e8085020 button.colab-df-convert');\n",
              "        buttonEl.style.display =\n",
              "          google.colab.kernel.accessAllowed ? 'block' : 'none';\n",
              "\n",
              "        async function convertToInteractive(key) {\n",
              "          const element = document.querySelector('#df-259ddb79-30f9-4917-857c-11e5e8085020');\n",
              "          const dataTable =\n",
              "            await google.colab.kernel.invokeFunction('convertToInteractive',\n",
              "                                                     [key], {});\n",
              "          if (!dataTable) return;\n",
              "\n",
              "          const docLinkHtml = 'Like what you see? Visit the ' +\n",
              "            '<a target=\"_blank\" href=https://colab.research.google.com/notebooks/data_table.ipynb>data table notebook</a>'\n",
              "            + ' to learn more about interactive tables.';\n",
              "          element.innerHTML = '';\n",
              "          dataTable['output_type'] = 'display_data';\n",
              "          await google.colab.output.renderOutput(dataTable, element);\n",
              "          const docLink = document.createElement('div');\n",
              "          docLink.innerHTML = docLinkHtml;\n",
              "          element.appendChild(docLink);\n",
              "        }\n",
              "      </script>\n",
              "    </div>\n",
              "  </div>\n",
              "  "
            ]
          },
          "metadata": {},
          "execution_count": 22
        }
      ]
    },
    {
      "cell_type": "markdown",
      "source": [
        "# Modeling\n",
        "Features must be prepared in the right way in order to be fed to the model.  In this regards, a couple of futher steps are needed:\n",
        "- **Assembling**:  for each reacord, its features must be assembled in a unique array. Pyspark provides the function *VectorAssembler()* which takes as input the features selected and the name of the column which will contain their assembling. Indeed, the function creates an array which aggregates all the features toghether.\n",
        "\n",
        "- **Scaling**: After being assembled, the features must be scaled by exploiting the function StandardScaler()"
      ],
      "metadata": {
        "id": "8OwpBN_4XNmW"
      }
    },
    {
      "cell_type": "code",
      "source": [
        "# Assemble num features\n",
        "assembler = VectorAssembler(inputCols=['female','days_registered','paid_user',\\\n",
        "                                       'downgraded','total_session','interactions',\\\n",
        "                                      'thumbs_up','length','session_gap'],\\\n",
        "                            outputCol='NumFeatures')\n",
        "\n",
        "# Standard Scaler\n",
        "standardscaler = StandardScaler(inputCol=\"NumFeatures\", outputCol=\"features\", withMean=True, withStd=True)"
      ],
      "metadata": {
        "id": "He7br71tRyQa"
      },
      "execution_count": null,
      "outputs": []
    },
    {
      "cell_type": "markdown",
      "source": [
        "# Split train and test set \n",
        "The split has been randomly generated but kept the same for all the tested approaches, in order to make evaluations statistically meaningful and provide consistent results among the different classifiers. This has been obtained by setting the random seed = 42. This specific seed allowed also to maintain the proportion of churn/non-churn clients in each of the final sets approximately the same as in the initial data. This approach is desirable every time we have a highly unbalanced dataset as in our case."
      ],
      "metadata": {
        "id": "PC7SR42cbAlA"
      }
    },
    {
      "cell_type": "code",
      "source": [
        "data = output.dropna()\n",
        "data = assembler.transform(data)\n",
        "# Use 'canceled' as model prediction label\n",
        "data = data.withColumnRenamed('canceled','label')"
      ],
      "metadata": {
        "id": "9LhG_f-bSJDO"
      },
      "execution_count": null,
      "outputs": []
    },
    {
      "cell_type": "code",
      "source": [
        "# Split train/test data and set seed for reproducibility\n",
        "train, test = data.randomSplit([0.75, 0.25], seed=42)"
      ],
      "metadata": {
        "id": "i35nIeGOSaH6"
      },
      "execution_count": null,
      "outputs": []
    },
    {
      "cell_type": "code",
      "source": [
        "# class distribution in train set \n",
        "get_class_distribution(train.toPandas(), \"label\")"
      ],
      "metadata": {
        "colab": {
          "base_uri": "https://localhost:8080/",
          "height": 351
        },
        "id": "sH4qnJl5-8NA",
        "outputId": "3060955d-b39a-400f-97ad-9037a916e7d9"
      },
      "execution_count": null,
      "outputs": [
        {
          "output_type": "stream",
          "name": "stderr",
          "text": [
            "/usr/local/lib/python3.8/dist-packages/seaborn/_decorators.py:36: FutureWarning: Pass the following variables as keyword args: x, y. From version 0.12, the only valid positional argument will be `data`, and passing other arguments without an explicit keyword will result in an error or misinterpretation.\n",
            "  warnings.warn(\n"
          ]
        },
        {
          "output_type": "display_data",
          "data": {
            "text/plain": [
              "<Figure size 432x288 with 1 Axes>"
            ],
            "image/png": "[encoded data removed]"
          },
          "metadata": {
            "needs_background": "light"
          }
        }
      ]
    },
    {
      "cell_type": "code",
      "source": [
        "# class distribution in test set \n",
        "get_class_distribution(test.toPandas(), \"label\")"
      ],
      "metadata": {
        "colab": {
          "base_uri": "https://localhost:8080/",
          "height": 351
        },
        "id": "tp6MRJVv_Tz9",
        "outputId": "f2795c9c-f429-467f-dbda-90778ad1ecb2"
      },
      "execution_count": null,
      "outputs": [
        {
          "output_type": "stream",
          "name": "stderr",
          "text": [
            "/usr/local/lib/python3.8/dist-packages/seaborn/_decorators.py:36: FutureWarning: Pass the following variables as keyword args: x, y. From version 0.12, the only valid positional argument will be `data`, and passing other arguments without an explicit keyword will result in an error or misinterpretation.\n",
            "  warnings.warn(\n"
          ]
        },
        {
          "output_type": "display_data",
          "data": {
            "text/plain": [
              "<Figure size 432x288 with 1 Axes>"
            ],
            "image/png": "[encoded data removed]"
          },
          "metadata": {
            "needs_background": "light"
          }
        }
      ]
    },
    {
      "cell_type": "code",
      "source": [
        "train.groupby('label').count().show()"
      ],
      "metadata": {
        "colab": {
          "base_uri": "https://localhost:8080/"
        },
        "id": "QD4gQ_CqSt4Q",
        "outputId": "5a9ae708-a3ad-4e7a-bbd8-f57fd1d2aa23"
      },
      "execution_count": null,
      "outputs": [
        {
          "output_type": "stream",
          "name": "stdout",
          "text": [
            "+-----+-----+\n",
            "|label|count|\n",
            "+-----+-----+\n",
            "|    1|   35|\n",
            "|    0|  131|\n",
            "+-----+-----+\n",
            "\n"
          ]
        }
      ]
    },
    {
      "cell_type": "code",
      "source": [
        "test.groupby('label').count().show()"
      ],
      "metadata": {
        "colab": {
          "base_uri": "https://localhost:8080/"
        },
        "id": "N1yLte2SSwqW",
        "outputId": "c356325b-417a-4076-f974-03c9265fe0d7"
      },
      "execution_count": null,
      "outputs": [
        {
          "output_type": "stream",
          "name": "stdout",
          "text": [
            "+-----+-----+\n",
            "|label|count|\n",
            "+-----+-----+\n",
            "|    1|   11|\n",
            "|    0|   33|\n",
            "+-----+-----+\n",
            "\n"
          ]
        }
      ]
    },
    {
      "cell_type": "markdown",
      "source": [
        "# Custom evaluator for cross validation\n",
        "Since our objective is to maximize the ability of the model to predict users more likely to churn, I decided to define a custom evaluator which consider as reference metric only the F1 score of the positive class 1(churn). \n",
        "To do so, it is necessary to extend the MulticlassClassificationEvaluator class and override the *evaluate* method."
      ],
      "metadata": {
        "id": "C1iDs0DPbQLt"
      }
    },
    {
      "cell_type": "code",
      "source": [
        "class F1PositiveEvaluator(MulticlassClassificationEvaluator):\n",
        "\n",
        "    def __init__(self, predictionCol=\"prediction\", labelCol=\"label\"):\n",
        "        super(F1PositiveEvaluator, self).__init__(predictionCol=predictionCol, labelCol=labelCol)\n",
        "\n",
        "    def evaluate(self, dataset):\n",
        "        predictionAndLabels = dataset.select(self.getPredictionCol(), self.getLabelCol()).rdd.map(lambda lp: (float(lp[0]), float(lp[1])))\n",
        "        metrics = MulticlassMetrics(predictionAndLabels)\n",
        "        return metrics.fMeasure(1.0)"
      ],
      "metadata": {
        "id": "9Ax9Avai2JBX"
      },
      "execution_count": null,
      "outputs": []
    },
    {
      "cell_type": "code",
      "source": [
        "# the same as above but by extending BinaryClassificationEvaluator class\n",
        "\"\"\"\n",
        "from pyspark.ml.evaluation import BinaryClassificationEvaluator\n",
        "from pyspark.sql.functions import col\n",
        "\n",
        "class F1ScoreEvaluator(BinaryClassificationEvaluator):\n",
        "\n",
        "    def __init__(self, rawPredictionCol=\"prediction\", labelCol=\"label\"):\n",
        "        super(F1ScoreEvaluator, self).__init__(rawPredictionCol=rawPredictionCol, labelCol=labelCol)\n",
        "\n",
        "    def evaluate(self, dataset):\n",
        "        predictionAndLabels = dataset.select(self.getRawPredictionCol(), self.getLabelCol()).rdd.map(lambda lp: (float(lp[0]), float(lp[1])))\n",
        "        metrics = MulticlassMetrics(predictionAndLabels)\n",
        "        return metrics.fMeasure(1.0)\n",
        "\"\"\""
      ],
      "metadata": {
        "id": "fXiKiTxwZl20"
      },
      "execution_count": null,
      "outputs": []
    },
    {
      "cell_type": "code",
      "source": [
        "# Create an instance of F1PositiveEvaluator\n",
        "F1_pos_evaluator = F1PositiveEvaluator()\n",
        "#F1_pos_evaluator = F1ScoreEvaluator()"
      ],
      "metadata": {
        "id": "yBOuvuW2Zq9p"
      },
      "execution_count": null,
      "outputs": []
    },
    {
      "cell_type": "markdown",
      "source": [
        "# Model fine-tuning\n",
        "To find the best model and parameters, we use CrossValidator to evaluate the model performance and validate the robustness of the models. With numFolds = 3 , the CrossValidator generates 3 sets of training/testing pairs, each of which uses 2/3 of the data for training and 1/3 for testing. To evaluate a particular model/param selection, CrossValidator computes the average evaluation metrics for the 3 models fitted on the 3 train/test pairs."
      ],
      "metadata": {
        "id": "ckYe4REgecSr"
      }
    },
    {
      "cell_type": "code",
      "source": [
        "def fit_model(model, train_input, test_input, paramGrid = None, train_score = False):\n",
        "    # Input: model, train set, test set, paramgrid (optional) and train_score (optional)\n",
        "    # Output: fitted model, prediction on test set, prediction on train set (optional)\n",
        "    pipeline = Pipeline(stages=[standardscaler, model])\n",
        "    \n",
        "    if paramGrid != None:\n",
        "        crossval = CrossValidator(estimator=pipeline,\n",
        "                          estimatorParamMaps=paramGrid,\n",
        "                          evaluator=F1_pos_evaluator,\n",
        "                          numFolds=3)\n",
        "        fitmodel = crossval.fit(train_input)\n",
        "    else:\n",
        "        fitmodel = pipeline.fit(train_input)\n",
        "    \n",
        "    results = fitmodel.transform(test_input)\n",
        "\n",
        "    if train_score:\n",
        "        results_train = fitmodel.transform(train_input)\n",
        "        return fitmodel, results, results_train\n",
        "    else:\n",
        "        return fitmodel, results\n",
        "    "
      ],
      "metadata": {
        "id": "8iovLOu1SzXy"
      },
      "execution_count": null,
      "outputs": []
    },
    {
      "cell_type": "markdown",
      "source": [
        "# Evaluation function\n",
        "The function evaluates the model according to:\n",
        "- F1 score (positive class)\n",
        "- Precision (positive class)\n",
        "- Recall (positive class)\n",
        "- F1 avg macro\n",
        "- AUC-PR"
      ],
      "metadata": {
        "id": "Z8wOW2n_dbew"
      }
    },
    {
      "cell_type": "code",
      "source": [
        "# Evaluate the model on validation set\n",
        "def val_evaluation(results):\n",
        "    # Input: prediction results\n",
        "    # Output: f1, precision and recall score of postive class + AUC-PR\n",
        "    predictionAndLabels = results.select(['prediction', 'label']).withColumn('label',col('label').cast(DoubleType())).rdd\n",
        "\n",
        "    metrics = MulticlassMetrics(predictionAndLabels)\n",
        "    print(\"Precision:\", metrics.precision(1))\n",
        "    print(\"Recall:\", metrics.recall(1))\n",
        "    print(\"F1 positive class:\", metrics.fMeasure(1.0))\n",
        "    f1_macro = (2*(metrics.recall(1) * metrics.precision(1)) / (metrics.recall(1) + metrics.precision(1)) + 2*(metrics.recall(0) * metrics.precision(0)) / (metrics.recall(0) + metrics.precision(0)))/2\n",
        "    print(\"F1 macro:\", f1_macro)\n",
        "   \n",
        "    #AUC\n",
        "    predictionAndLabels = results.select(['prediction', 'label'])\n",
        "    auc_evaluator = BinaryClassificationEvaluator(rawPredictionCol='prediction', labelCol='label')\n",
        "    pr = auc_evaluator.evaluate(predictionAndLabels, {auc_evaluator.metricName: \"areaUnderPR\"})\n",
        "    print(\"AUC-PR:\", pr, \"\\n\")\n",
        "\n",
        "    #return(round(f1_positive_label,2), round(precision,2),round(recall,2), round(pr,2))"
      ],
      "metadata": {
        "id": "H7KCNRtiTm-X"
      },
      "execution_count": null,
      "outputs": []
    },
    {
      "cell_type": "markdown",
      "source": [
        "# Models selection\n",
        "I decided to compare the performances of 4 different models: \n",
        "- Logistic Regression\n",
        "- Random Forest Classifier\n",
        "- SVM (linear kernel)\n",
        "- GBT Classifier"
      ],
      "metadata": {
        "id": "TukmTNsUf1dO"
      }
    },
    {
      "cell_type": "markdown",
      "source": [
        "# Logistic regression"
      ],
      "metadata": {
        "id": "ZD75Kk2UgmlO"
      }
    },
    {
      "cell_type": "code",
      "source": [
        "lr = LogisticRegression()"
      ],
      "metadata": {
        "id": "Yx9EB9EsZjoY"
      },
      "execution_count": null,
      "outputs": []
    },
    {
      "cell_type": "code",
      "source": [
        "# Create ParamGrid for Cross Validation\n",
        "paramGrid = (ParamGridBuilder()\n",
        "             .addGrid(lr.regParam, [0.0, 0.0001, 0.1])\n",
        "             .addGrid(lr.elasticNetParam, [0.0, 0.5, 1.0])\n",
        "             .addGrid(lr.maxIter, [5, 10, 20])\n",
        "             .build())"
      ],
      "metadata": {
        "id": "U577HwZhTzZp"
      },
      "execution_count": null,
      "outputs": []
    },
    {
      "cell_type": "code",
      "source": [
        "lrmodel, lrresults = fit_model(lr, train, test, paramGrid=paramGrid )\n",
        "val_evaluation(lrresults)"
      ],
      "metadata": {
        "colab": {
          "base_uri": "https://localhost:8080/"
        },
        "id": "2vwZdtEBV1I8",
        "outputId": "b7d12456-2af3-4b2d-95e4-3760570216ac"
      },
      "execution_count": null,
      "outputs": [
        {
          "output_type": "stream",
          "name": "stderr",
          "text": [
            "/usr/local/lib/python3.8/dist-packages/pyspark/sql/context.py:157: FutureWarning: Deprecated in 3.0.0. Use SparkSession.builder.getOrCreate() instead.\n",
            "  warnings.warn(\n"
          ]
        },
        {
          "output_type": "stream",
          "name": "stdout",
          "text": [
            "Precision: 1.0\n",
            "Recall: 0.5454545454545454\n",
            "F1 positive class: 0.7058823529411764\n",
            "F1 macro: 0.8177299088649543\n",
            "AUC-PR: 0.8295454545454546 \n",
            "\n"
          ]
        }
      ]
    },
    {
      "cell_type": "code",
      "source": [
        "best_param = list(lrmodel.getEstimatorParamMaps()[np.argmax(lrmodel.avgMetrics)].values())\n",
        "print('Best LR parameters are:', best_param[0], best_param[1], best_param[2])"
      ],
      "metadata": {
        "colab": {
          "base_uri": "https://localhost:8080/"
        },
        "id": "o7qwiDZozKvW",
        "outputId": "bb094cdd-9e64-4a35-e35b-54bcff888e9e"
      },
      "execution_count": null,
      "outputs": [
        {
          "output_type": "stream",
          "name": "stdout",
          "text": [
            "Best LR parameters are: 0.0001 1.0 10\n"
          ]
        }
      ]
    },
    {
      "cell_type": "code",
      "source": [
        "lr = LogisticRegression(elasticNetParam=1.0, regParam = 0.0001, maxIter=10)\n",
        "lrmodel, lrresults, train_res = fit_model(lr, train, test, train_score = True)\n",
        "print(\"TRAIN results:\")\n",
        "val_evaluation(train_res)\n",
        "print(\"TEST results:\")\n",
        "val_evaluation(lrresults)"
      ],
      "metadata": {
        "colab": {
          "base_uri": "https://localhost:8080/"
        },
        "id": "VpCrR7rLT3sp",
        "outputId": "6f9c0044-17f2-48a1-fccf-e18299922c86"
      },
      "execution_count": null,
      "outputs": [
        {
          "output_type": "stream",
          "name": "stdout",
          "text": [
            "TRAIN results:\n"
          ]
        },
        {
          "output_type": "stream",
          "name": "stderr",
          "text": [
            "/usr/local/lib/python3.8/dist-packages/pyspark/sql/context.py:157: FutureWarning: Deprecated in 3.0.0. Use SparkSession.builder.getOrCreate() instead.\n",
            "  warnings.warn(\n"
          ]
        },
        {
          "output_type": "stream",
          "name": "stdout",
          "text": [
            "Precision: 0.8518518518518519\n",
            "Recall: 0.6571428571428571\n",
            "F1 positive class: 0.7419354838709677\n",
            "F1 macro: 0.8413381123058542\n",
            "AUC-PR: 0.7419646841333589 \n",
            "\n",
            "TEST results:\n",
            "Precision: 1.0\n",
            "Recall: 0.5454545454545454\n",
            "F1 positive class: 0.7058823529411764\n",
            "F1 macro: 0.8177299088649543\n",
            "AUC-PR: 0.8295454545454546 \n",
            "\n"
          ]
        }
      ]
    },
    {
      "cell_type": "markdown",
      "source": [
        "## PR Curve\n",
        "The Precision-Recall curve plots the precision (the number of true positive predictions divided by the sum of true positive and false positive predictions) against the recall (the number of true positive predictions divided by the sum of true positive and false negative predictions) for different threshold values of the classifier's predicted probabilities. The AUC-PR measures the area under this curve, and a higher AUC-PR value indicates a better balance between precision and recall for the minority class."
      ],
      "metadata": {
        "id": "RTZpNly6D0cZ"
      }
    },
    {
      "cell_type": "code",
      "source": [
        "# lr model PR curve\n",
        "trainingSummary = lrmodel.stages[-1].summary\n",
        "#Returns the precision-recall curve, which is an Dataframe containing two fields reca\n",
        "pr = trainingSummary.pr.toPandas()\n",
        "\n",
        "plt.plot(pr['recall'],pr['precision'])\n",
        "plt.ylabel('Precision')\n",
        "plt.xlabel('Recall')\n",
        "plt.title('PR Curve')\n",
        "plt.show()"
      ],
      "metadata": {
        "colab": {
          "base_uri": "https://localhost:8080/",
          "height": 295
        },
        "id": "3-S_7BvAdV5Z",
        "outputId": "dd6256b9-b24f-4d1a-d6c0-21b7ba4b8727"
      },
      "execution_count": null,
      "outputs": [
        {
          "output_type": "display_data",
          "data": {
            "text/plain": [
              "<Figure size 432x288 with 1 Axes>"
            ],
            "image/png": "[encoded data removed]"
          },
          "metadata": {
            "needs_background": "light"
          }
        }
      ]
    },
    {
      "cell_type": "markdown",
      "source": [
        "## Coefficients\n",
        "In logistic regression for binary classification, the coefficients represent the change in the log odds of the dependent variable (the binary outcome) for a one unit change in the independent variable, while holding all other variables constant.\n",
        "\n",
        "- session_gap, total_sessiom and interactions are inversely correlated with the probability of churn, so the higher their value, the less the probability of the client to churn \n",
        "- On the other hand, the length and the typology of the user turned out to be features directly correlated with the probability of being a churn."
      ],
      "metadata": {
        "id": "cnj8s389pO5w"
      }
    },
    {
      "cell_type": "code",
      "source": [
        "exp_features = ['female','days_registered','paid_user',\\\n",
        "                                       'downgraded','total_session','interactions',\\\n",
        "                                      'thumbs_up','length','session_gap']\n",
        "FI = lrmodel.stages[-1].coefficients\n",
        "model_FI = pd.DataFrame(list(zip(exp_features, FI)),  columns=['Feature', 'Coefficient']).sort_values('Coefficient', ascending=False)\n",
        "        \n",
        "model_FI.plot.bar(x='Feature', y='Coefficient')\n",
        "plt.ylabel('Coefficient')"
      ],
      "metadata": {
        "colab": {
          "base_uri": "https://localhost:8080/",
          "height": 367
        },
        "id": "9UmOBGi0ddpM",
        "outputId": "5a0907ed-c8c2-429b-dd80-fc8909f3638d"
      },
      "execution_count": null,
      "outputs": [
        {
          "output_type": "execute_result",
          "data": {
            "text/plain": [
              "Text(0, 0.5, 'Coefficient')"
            ]
          },
          "metadata": {},
          "execution_count": 58
        },
        {
          "output_type": "display_data",
          "data": {
            "text/plain": [
              "<Figure size 432x288 with 1 Axes>"
            ],
            "image/png": "[encoded data removed]"
          },
          "metadata": {
            "needs_background": "light"
          }
        }
      ]
    },
    {
      "cell_type": "markdown",
      "source": [
        "# Random Forest\n"
      ],
      "metadata": {
        "id": "PnRbHvBfdhyf"
      }
    },
    {
      "cell_type": "code",
      "source": [
        "rf = RandomForestClassifier(maxDepth = 5, numTrees = 10)"
      ],
      "metadata": {
        "id": "XXS15ukdd-7W"
      },
      "execution_count": null,
      "outputs": []
    },
    {
      "cell_type": "code",
      "source": [
        "paramGrid = (ParamGridBuilder()\n",
        "             .addGrid(rf.maxDepth, [2, 3, 5])\n",
        "             .addGrid(rf.numTrees, [2, 5, 10])\n",
        "             .build())"
      ],
      "metadata": {
        "id": "R8I8TMVkdwZq"
      },
      "execution_count": null,
      "outputs": []
    },
    {
      "cell_type": "code",
      "source": [
        "rfmodel, rfresults, train_res = fit_model(rf, train, test, paramGrid = paramGrid, train_score = True)\n",
        "print(\"TRAIN results:\")\n",
        "val_evaluation(train_res)\n",
        "print(\"TEST results:\")\n",
        "val_evaluation(rfresults)"
      ],
      "metadata": {
        "colab": {
          "base_uri": "https://localhost:8080/"
        },
        "id": "PxLA0e0tdmrR",
        "outputId": "42b857f7-12ca-42fb-e35f-96feb71d4f0d"
      },
      "execution_count": null,
      "outputs": [
        {
          "output_type": "stream",
          "name": "stdout",
          "text": [
            "TRAIN results:\n",
            "Precision: 1.0\n",
            "Recall: 0.6857142857142857\n",
            "F1 positive class: 0.8135593220338984\n",
            "F1 macro: 0.8866331408704291\n",
            "AUC-PR: 0.8759896729776248 \n",
            "\n",
            "TEST results:\n",
            "Precision: 0.8\n",
            "Recall: 0.36363636363636365\n",
            "F1 positive class: 0.5000000000000001\n",
            "F1 macro: 0.6944444444444444\n",
            "AUC-PR: 0.625 \n",
            "\n"
          ]
        }
      ]
    },
    {
      "cell_type": "code",
      "source": [
        "best_param = list(rfmodel.getEstimatorParamMaps()[np.argmax(rfmodel.avgMetrics)].values())\n",
        "print('Best RF parameters are:', best_param[0], best_param[1])"
      ],
      "metadata": {
        "colab": {
          "base_uri": "https://localhost:8080/"
        },
        "id": "sSccsCZZe8EV",
        "outputId": "37dbc421-a497-461a-820e-880a658ee861"
      },
      "execution_count": null,
      "outputs": [
        {
          "output_type": "stream",
          "name": "stdout",
          "text": [
            "Best RF parameters are: 5 10\n"
          ]
        }
      ]
    },
    {
      "cell_type": "markdown",
      "source": [
        "## Features importances\n",
        "In a Random Forest Classifier, feature importance is a measure of the contribution of each feature to the prediction accuracy of the model.\n",
        "From the plot we can see as paid_user and downgraded are the feature with the least impact on churn prediction, while days_registered and session_gap turned out to be the most important."
      ],
      "metadata": {
        "id": "HE5vYmKMozcf"
      }
    },
    {
      "cell_type": "code",
      "source": [
        "FI = rfmodel.stages[-1].featureImportances\n",
        "model_FI = pd.DataFrame(list(zip(exp_features, FI)), columns=['Feature', 'FeatureImportances']).sort_values('FeatureImportances', ascending=False)\n",
        "model_FI.plot.bar(x='Feature', y='FeatureImportances')\n",
        "plt.ylabel('FeatureImportances')"
      ],
      "metadata": {
        "colab": {
          "base_uri": "https://localhost:8080/",
          "height": 367
        },
        "id": "MMkmIufwSVhQ",
        "outputId": "e5125bd7-eddc-4919-f373-0dbadeae5103"
      },
      "execution_count": null,
      "outputs": [
        {
          "output_type": "execute_result",
          "data": {
            "text/plain": [
              "Text(0, 0.5, 'FeatureImportances')"
            ]
          },
          "metadata": {},
          "execution_count": 68
        },
        {
          "output_type": "display_data",
          "data": {
            "text/plain": [
              "<Figure size 432x288 with 1 Axes>"
            ],
            "image/png": "[encoded data removed]"
          },
          "metadata": {
            "needs_background": "light"
          }
        }
      ]
    },
    {
      "cell_type": "markdown",
      "source": [
        "# SVM"
      ],
      "metadata": {
        "id": "hxlgKnItS_tD"
      }
    },
    {
      "cell_type": "code",
      "source": [
        "lsvc = LinearSVC()\n",
        "lsvc.setThreshold(0.5)"
      ],
      "metadata": {
        "id": "fycs_dYQt_ZT"
      },
      "execution_count": null,
      "outputs": []
    },
    {
      "cell_type": "code",
      "source": [
        "# Create ParamGrid for Cross Validation\n",
        "paramGrid = (ParamGridBuilder()\n",
        "             .addGrid(lsvc.regParam, [0.0, 0.001, 0.01])\n",
        "             .addGrid(lsvc.maxIter, [5, 10, 20])\n",
        "             .build())"
      ],
      "metadata": {
        "id": "Y4-GMRDrt0nJ"
      },
      "execution_count": null,
      "outputs": []
    },
    {
      "cell_type": "code",
      "source": [
        "lsvcmodel, lsvcresults, train_res = fit_model(lsvc, train, test, paramGrid = paramGrid, train_score = True)\n",
        "print(\"TRAIN results:\")\n",
        "val_evaluation(train_res)\n",
        "print(\"TEST results:\")\n",
        "val_evaluation(lsvcresults)"
      ],
      "metadata": {
        "colab": {
          "base_uri": "https://localhost:8080/"
        },
        "id": "CxQH_ICsnKjU",
        "outputId": "b5ab70f3-ec74-4ad0-f5a1-14c6a0f69400"
      },
      "execution_count": null,
      "outputs": [
        {
          "output_type": "stream",
          "name": "stdout",
          "text": [
            "TRAIN results:\n",
            "Precision: 0.9090909090909091\n",
            "Recall: 0.2857142857142857\n",
            "F1 positive class: 0.43478260869565216\n",
            "F1 macro: 0.6719367588932806\n",
            "AUC-PR: 0.6597167892348615 \n",
            "\n",
            "TEST results:\n",
            "Precision: 1.0\n",
            "Recall: 0.2727272727272727\n",
            "F1 positive class: 0.42857142857142855\n",
            "F1 macro: 0.6602316602316602\n",
            "AUC-PR: 0.7272727272727273 \n",
            "\n"
          ]
        }
      ]
    },
    {
      "cell_type": "code",
      "source": [
        "best_param = list(lsvcmodel.getEstimatorParamMaps()[np.argmax(lsvcmodel.avgMetrics)].values())\n",
        "print('Best LSVC parameters are:', best_param[0], best_param[1])"
      ],
      "metadata": {
        "colab": {
          "base_uri": "https://localhost:8080/"
        },
        "id": "mA2mgqyJp9sL",
        "outputId": "358c8c16-8de7-4f70-a448-5962b25c7dd3"
      },
      "execution_count": null,
      "outputs": [
        {
          "output_type": "stream",
          "name": "stdout",
          "text": [
            "Best LSVC parameters are: 0.0 10\n"
          ]
        }
      ]
    },
    {
      "cell_type": "markdown",
      "source": [
        "## Coefficients\n",
        "In SVC, the goal is to find the best boundary (or hyperplane) that separates the data into two classes. The coefficients in an SVC model represent the weights assigned to each feature in determining the position of this boundary."
      ],
      "metadata": {
        "id": "ikvSwytrlCjE"
      }
    },
    {
      "cell_type": "code",
      "source": [
        "FI = lsvcmodel.stages[-1].coefficients\n",
        "model_FI = pd.DataFrame(list(zip(exp_features, FI)),  columns=['Feature', 'Coefficient']).sort_values('Coefficient', ascending=False)\n",
        "        \n",
        "model_FI.plot.bar(x='Feature', y='Coefficient')\n",
        "plt.ylabel('Coefficient')"
      ],
      "metadata": {
        "colab": {
          "base_uri": "https://localhost:8080/",
          "height": 371
        },
        "id": "JhDvUKY6TV-F",
        "outputId": "3b2b2b71-1114-4f97-c333-16ea09ae260e"
      },
      "execution_count": null,
      "outputs": [
        {
          "output_type": "execute_result",
          "data": {
            "text/plain": [
              "Text(0, 0.5, 'Coefficient')"
            ]
          },
          "metadata": {},
          "execution_count": 73
        },
        {
          "output_type": "display_data",
          "data": {
            "text/plain": [
              "<Figure size 432x288 with 1 Axes>"
            ],
            "image/png": "[encoded data removed]"
          },
          "metadata": {
            "needs_background": "light"
          }
        }
      ]
    },
    {
      "cell_type": "markdown",
      "source": [
        "# GBT Classifier"
      ],
      "metadata": {
        "id": "8__TN3VMTkNQ"
      }
    },
    {
      "cell_type": "code",
      "source": [
        "gbt = GBTClassifier()"
      ],
      "metadata": {
        "id": "GAPfqHU7MXk_"
      },
      "execution_count": null,
      "outputs": []
    },
    {
      "cell_type": "code",
      "source": [
        "paramGrid = (ParamGridBuilder()\n",
        "             .addGrid(gbt.maxDepth, [1, 2, 3])\n",
        "             .addGrid(gbt.maxIter, [3, 5, 10])\n",
        "             .build())"
      ],
      "metadata": {
        "id": "9DFVq0VaTmXD"
      },
      "execution_count": null,
      "outputs": []
    },
    {
      "cell_type": "code",
      "source": [
        "gbtmodel, gbtresults, train_res = fit_model(gbt, train, test, paramGrid = paramGrid, train_score = True)"
      ],
      "metadata": {
        "id": "iwfWnT0zTtPY"
      },
      "execution_count": null,
      "outputs": []
    },
    {
      "cell_type": "code",
      "source": [
        "print(\"TRAIN results:\")\n",
        "val_evaluation(train_res)\n",
        "print(\"TEST results:\")\n",
        "val_evaluation(gbtresults)"
      ],
      "metadata": {
        "colab": {
          "base_uri": "https://localhost:8080/"
        },
        "id": "XR8ed-D8oWA8",
        "outputId": "b58e3022-16b0-418e-cfb7-cb68fbd76d28"
      },
      "execution_count": null,
      "outputs": [
        {
          "output_type": "stream",
          "name": "stdout",
          "text": [
            "TRAIN results:\n",
            "Precision: 0.92\n",
            "Recall: 0.6571428571428571\n",
            "F1 positive class: 0.7666666666666667\n",
            "F1 macro: 0.8575980392156863\n",
            "AUC-PR: 0.7984302925989674 \n",
            "\n",
            "TEST results:\n",
            "Precision: 0.8\n",
            "Recall: 0.36363636363636365\n",
            "F1 positive class: 0.5000000000000001\n",
            "F1 macro: 0.6944444444444444\n",
            "AUC-PR: 0.625 \n",
            "\n"
          ]
        }
      ]
    },
    {
      "cell_type": "code",
      "source": [
        "best_param = list(gbtmodel.getEstimatorParamMaps()[np.argmax(gbtmodel.avgMetrics)].values())\n",
        "print('Best GBT parameters are:', best_param[0], best_param[1])"
      ],
      "metadata": {
        "colab": {
          "base_uri": "https://localhost:8080/"
        },
        "id": "CQbzZrFOqjHe",
        "outputId": "cfe08050-76e3-4ccb-bcf8-616fed7ac484"
      },
      "execution_count": null,
      "outputs": [
        {
          "output_type": "stream",
          "name": "stdout",
          "text": [
            "Best GBT parameters are: 3 10\n"
          ]
        }
      ]
    },
    {
      "cell_type": "markdown",
      "source": [
        "## Feature importances"
      ],
      "metadata": {
        "id": "CW_GHpKrlsfF"
      }
    },
    {
      "cell_type": "code",
      "source": [
        "exp_features = ['female','days_registered','paid_user',\\\n",
        "                                       'downgraded','total_session','interactions',\\\n",
        "                                      'thumbs_up','length','session_gap']\n",
        "FI = gbtmodel.stages[-1].featureImportances\n",
        "model_FI = pd.DataFrame(list(zip(exp_features, FI)), columns=['Feature', 'FeatureImportances']).sort_values('FeatureImportances', ascending=False)\n",
        "\n",
        "model_FI.plot.bar(x='Feature', y='FeatureImportances')\n",
        "plt.ylabel('FeatureImportances')"
      ],
      "metadata": {
        "colab": {
          "base_uri": "https://localhost:8080/",
          "height": 367
        },
        "id": "KQyNJEUuqWff",
        "outputId": "c27908fb-8fb0-4ce5-9f4a-6db20ef92f5f"
      },
      "execution_count": null,
      "outputs": [
        {
          "output_type": "execute_result",
          "data": {
            "text/plain": [
              "Text(0, 0.5, 'FeatureImportances')"
            ]
          },
          "metadata": {},
          "execution_count": 39
        },
        {
          "output_type": "display_data",
          "data": {
            "text/plain": [
              "<Figure size 432x288 with 1 Axes>"
            ],
            "image/png": "[encoded data removed]"
          },
          "metadata": {
            "needs_background": "light"
          }
        }
      ]
    },
    {
      "cell_type": "markdown",
      "source": [
        "# Summary of results (F1 score)\n",
        "- Logistic Regression: 0.71 \n",
        "- Random Forest: 0.50\n",
        "- SVM: 0.42\n",
        "- GBT: 0.50"
      ],
      "metadata": {
        "id": "wEDHW3s0vhV6"
      }
    },
    {
      "cell_type": "markdown",
      "source": [
        "# Handling imbalanced class ratio to improve the results\n",
        "- Handling imbalanced datasets is a common challenge in machine learning. When dealing with significantly unbalanced dataset in the target label, it becomes harder for most machine learning algorithms to efficiently learn all classes. The training process might be indeed biased towards a certain class if the dataset distribution is poorly balanced.\n",
        "\n",
        "- In this specific case, only about 23.11% of the data are labelled as churn (label=1).\n",
        "\n",
        "-  There are several ways to address this issue with PySpark and MLlib. We will focus on the following two approaches:\n",
        "    - Resempling\n",
        "    - Cost-based function (Weighting)"
      ],
      "metadata": {
        "id": "xXKdu8GhtoxU"
      }
    },
    {
      "cell_type": "markdown",
      "source": [
        "# Resampling\n",
        "\n",
        "- While the obvious and most desirable solution would be to collect more real data, oversampling and undersampling are techniques that may still come in handy in these situations.\n",
        "For both techniques there is a naïve approach that is the random oversampling (undersampling) where training data is incremented (decremented) with multiple copies of the samples, until the same proportion is obtained on the minority (majority) classes. A more sophisticated  approach is SMOTE oversampling which works by utilizing a k-nearest neighbour algorithm to create synthetic data from the minority class.\n",
        "\n",
        "- So now let's test these three approaches to see if they bring some improvements. \n",
        "\n",
        "Always split into test and train sets BEFORE trying oversampling techniques! Oversampling before splitting the data can allow the exact same observations to be present in both the test and train sets. This can allow our model to simply memorize specific data points and cause overfitting and poor generalization to the test data."
      ],
      "metadata": {
        "id": "HbjxfFXtOmjo"
      }
    },
    {
      "cell_type": "markdown",
      "source": [
        "## Downsampling"
      ],
      "metadata": {
        "id": "jFG_sUfSXkWm"
      }
    },
    {
      "cell_type": "code",
      "source": [
        "from sklearn.utils import resample\n",
        "import pandas as pd\n",
        "# setting up testing and training sets\n",
        "df_train, df_test = data.randomSplit([.75,.25],seed=42)\n",
        "\n",
        "X_train = df_train.drop('label')\n",
        "y_train = df_train.label\n",
        "\n",
        "X_test = df_test.drop('label')\n",
        "y_test = df_test.label\n",
        "# concatenate our training data back together\n",
        "X = df_train.toPandas()"
      ],
      "metadata": {
        "id": "ZTfDme35X9-J"
      },
      "execution_count": null,
      "outputs": []
    },
    {
      "cell_type": "code",
      "source": [
        "# separate minority and majority classes\n",
        "not_churn = X[X.label==0]\n",
        "churn = X[X.label==1]"
      ],
      "metadata": {
        "id": "YpDvi1NwYFhe"
      },
      "execution_count": null,
      "outputs": []
    },
    {
      "cell_type": "code",
      "source": [
        "\n",
        "\n",
        "# downsample majority\n",
        "not_churn_downsampled = resample(not_churn,\n",
        "                                replace = False, # sample without replacement\n",
        "                                n_samples = len(churn), # match minority n\n",
        "                                random_state = 42) # reproducible results\n",
        "\n",
        "# combine minority and downsampled majority\n",
        "downsampled = pd.concat([not_churn_downsampled, churn])\n",
        "\n",
        "# checking counts\n",
        "downsampled.label.value_counts()"
      ],
      "metadata": {
        "colab": {
          "base_uri": "https://localhost:8080/"
        },
        "id": "kNURVwAZYI6Z",
        "outputId": "6799a553-ac94-4e6a-f656-817818f218f5"
      },
      "execution_count": null,
      "outputs": [
        {
          "output_type": "execute_result",
          "data": {
            "text/plain": [
              "0    35\n",
              "1    35\n",
              "Name: label, dtype: int64"
            ]
          },
          "metadata": {},
          "execution_count": 36
        }
      ]
    },
    {
      "cell_type": "code",
      "source": [
        "train_downsampled = spark.createDataFrame(downsampled)"
      ],
      "metadata": {
        "id": "_uc82GSUYMSj"
      },
      "execution_count": null,
      "outputs": []
    },
    {
      "cell_type": "code",
      "source": [
        "lr_down = LogisticRegression(maxIter=10, elasticNetParam=1.0, regParam = 0.0001)\n",
        "lr_down.setThreshold(0.65)\n",
        "lr_down_model, lr_downsample_res = fit_model(lr_down, train_downsampled, df_test)\n",
        "print(\"Test results:\") \n",
        "val_evaluation(lr_downsample_res)"
      ],
      "metadata": {
        "colab": {
          "base_uri": "https://localhost:8080/"
        },
        "id": "StG6Up6JYVO8",
        "outputId": "d2cdf66d-9a9d-4952-9e68-323c38151a51"
      },
      "execution_count": null,
      "outputs": [
        {
          "output_type": "stream",
          "name": "stdout",
          "text": [
            "Test results:\n",
            "Precision: 0.6666666666666666\n",
            "Recall: 0.7272727272727273\n",
            "F1 positive class: 0.6956521739130435\n",
            "F1 macro: 0.7939799331103679\n",
            "AUC-PR: 0.6098484848484849 \n",
            "\n"
          ]
        }
      ]
    },
    {
      "cell_type": "code",
      "source": [
        "rf_down = RandomForestClassifier(maxDepth=10, numTrees=20)\n",
        "rf_down_model, rf_downsample_res = fit_model(rf_down, train_downsampled, df_test)\n",
        "print(\"Test results:\") \n",
        "val_evaluation(rf_downsample_res)"
      ],
      "metadata": {
        "colab": {
          "base_uri": "https://localhost:8080/"
        },
        "id": "D1szh7CLT5-f",
        "outputId": "bb2aa4b5-f568-40e2-c0fb-d420bd10c083"
      },
      "execution_count": null,
      "outputs": [
        {
          "output_type": "stream",
          "name": "stdout",
          "text": [
            "Test results:\n"
          ]
        },
        {
          "output_type": "stream",
          "name": "stderr",
          "text": [
            "/usr/local/lib/python3.8/dist-packages/pyspark/sql/context.py:157: FutureWarning: Deprecated in 3.0.0. Use SparkSession.builder.getOrCreate() instead.\n",
            "  warnings.warn(\n"
          ]
        },
        {
          "output_type": "stream",
          "name": "stdout",
          "text": [
            "Precision: 0.5\n",
            "Recall: 0.6363636363636364\n",
            "F1 positive class: 0.56\n",
            "F1 macro: 0.6926984126984127\n",
            "AUC-PR: 0.45454545454545453 \n",
            "\n"
          ]
        }
      ]
    },
    {
      "cell_type": "code",
      "source": [
        "lsvc_down = LinearSVC(maxIter=10, regParam=0.0)\n",
        "lsvc_down.setThreshold(0.5)\n",
        "lsvc_down_model, lsvc_downsample_res = fit_model(lsvc_down, train_downsampled, df_test)\n",
        "print(\"Test results:\") \n",
        "val_evaluation(lsvc_downsample_res)"
      ],
      "metadata": {
        "colab": {
          "base_uri": "https://localhost:8080/"
        },
        "id": "i3jdNK0UUe6i",
        "outputId": "4f0598a7-cad7-43a6-a6b1-91738e95ec26"
      },
      "execution_count": null,
      "outputs": [
        {
          "output_type": "stream",
          "name": "stdout",
          "text": [
            "Test results:\n",
            "Precision: 0.6666666666666666\n",
            "Recall: 0.7272727272727273\n",
            "F1 positive class: 0.6956521739130435\n",
            "F1 macro: 0.7939799331103679\n",
            "AUC-PR: 0.6098484848484849 \n",
            "\n"
          ]
        }
      ]
    },
    {
      "cell_type": "code",
      "source": [
        "gbt_down = GBTClassifier(maxIter=5, maxDepth=2)\n",
        "gbt_down_model, gbt_downsample_res = fit_model(gbt_down, train_downsampled, df_test)\n",
        "print(\"Test results:\") \n",
        "val_evaluation(gbt_downsample_res)"
      ],
      "metadata": {
        "colab": {
          "base_uri": "https://localhost:8080/"
        },
        "id": "JA-dQIXSUvOz",
        "outputId": "e638ed08-8dee-4783-f4e5-2ce78d72f339"
      },
      "execution_count": null,
      "outputs": [
        {
          "output_type": "stream",
          "name": "stdout",
          "text": [
            "Test results:\n",
            "Precision: 0.36363636363636365\n",
            "Recall: 0.7272727272727273\n",
            "F1 positive class: 0.4848484848484849\n",
            "F1 macro: 0.5878787878787879\n",
            "AUC-PR: 0.34814049586776863 \n",
            "\n"
          ]
        }
      ]
    },
    {
      "cell_type": "markdown",
      "source": [
        "## Upsampling"
      ],
      "metadata": {
        "id": "NyUFphpwZzMN"
      }
    },
    {
      "cell_type": "code",
      "source": [
        "# upsample minority\n",
        "churn_upsampled = resample(churn,\n",
        "                          replace=True, # sample with replacement\n",
        "                          n_samples=len(not_churn), # match number in majority class\n",
        "                          random_state=42) # reproducible results\n",
        "\n",
        "# combine majority and upsampled minority\n",
        "upsampled = pd.concat([not_churn, churn_upsampled])\n",
        "\n",
        "# check new class counts\n",
        "upsampled.label.value_counts()"
      ],
      "metadata": {
        "colab": {
          "base_uri": "https://localhost:8080/"
        },
        "id": "wmBXjeR6Z05E",
        "outputId": "d9d143ff-013d-407b-bd61-e7908970c214"
      },
      "execution_count": null,
      "outputs": [
        {
          "output_type": "execute_result",
          "data": {
            "text/plain": [
              "0    131\n",
              "1    131\n",
              "Name: label, dtype: int64"
            ]
          },
          "metadata": {},
          "execution_count": 55
        }
      ]
    },
    {
      "cell_type": "code",
      "source": [
        "train_upsampled = spark.createDataFrame(upsampled)"
      ],
      "metadata": {
        "id": "uF733gcLZ21i"
      },
      "execution_count": null,
      "outputs": []
    },
    {
      "cell_type": "code",
      "source": [
        "lr_up = LogisticRegression(maxIter=10, elasticNetParam=1.0, regParam = 0.0001)\n",
        "lr_up.setThreshold(0.65)\n",
        "lr_up_model, lr_upsample_res = fit_model(lr_up, train_upsampled, df_test)"
      ],
      "metadata": {
        "id": "4KuycnowaGAZ"
      },
      "execution_count": null,
      "outputs": []
    },
    {
      "cell_type": "code",
      "source": [
        "print(\"Test results:\") \n",
        "val_evaluation(lr_upsample_res)"
      ],
      "metadata": {
        "colab": {
          "base_uri": "https://localhost:8080/"
        },
        "id": "XvaokC5XaetX",
        "outputId": "2e072c67-4117-4ab3-844e-d09b416d5799"
      },
      "execution_count": null,
      "outputs": [
        {
          "output_type": "stream",
          "name": "stdout",
          "text": [
            "Test results:\n",
            "Precision: 0.875\n",
            "Recall: 0.6363636363636364\n",
            "F1 positive class: 0.7368421052631579\n",
            "F1 macro: 0.8321891685736079\n",
            "AUC-PR: 0.7613636363636364 \n",
            "\n"
          ]
        }
      ]
    },
    {
      "cell_type": "code",
      "source": [
        "rf_up = RandomForestClassifier(maxDepth=10, numTrees=10)\n",
        "rf_up_model, rf_upsample_res = fit_model(rf_up, train_upsampled, df_test)\n",
        "print(\"Test results:\")\n",
        "val_evaluation(rf_upsample_res)"
      ],
      "metadata": {
        "colab": {
          "base_uri": "https://localhost:8080/"
        },
        "id": "Fg_lhiXaVGiP",
        "outputId": "c539a2e8-9558-40b8-8933-0ab0df6c9670"
      },
      "execution_count": null,
      "outputs": [
        {
          "output_type": "stream",
          "name": "stdout",
          "text": [
            "Test results:\n",
            "Precision: 0.8333333333333334\n",
            "Recall: 0.45454545454545453\n",
            "F1 positive class: 0.5882352941176471\n",
            "F1 macro: 0.7448218724109362\n",
            "AUC-PR: 0.6742424242424243 \n",
            "\n"
          ]
        }
      ]
    },
    {
      "cell_type": "code",
      "source": [
        "lsvc_up = LinearSVC(maxIter=10, regParam=0.0)\n",
        "lsvc_up.setThreshold(0.1)\n",
        "lsvc_up_model, lsvc_upsample_res = fit_model(lsvc_up, train_upsampled, df_test)\n",
        "print(\"Test results:\")\n",
        "val_evaluation(lsvc_upsample_res)"
      ],
      "metadata": {
        "colab": {
          "base_uri": "https://localhost:8080/"
        },
        "id": "O7jR__r6VHB_",
        "outputId": "a39005cf-2e0c-4709-c79b-dc8148673546"
      },
      "execution_count": null,
      "outputs": [
        {
          "output_type": "stream",
          "name": "stdout",
          "text": [
            "Test results:\n",
            "Precision: 0.7777777777777778\n",
            "Recall: 0.6363636363636364\n",
            "F1 positive class: 0.7000000000000001\n",
            "F1 macro: 0.8058823529411765\n",
            "AUC-PR: 0.6818181818181819 \n",
            "\n"
          ]
        }
      ]
    },
    {
      "cell_type": "code",
      "source": [
        "gbt_up = GBTClassifier(maxIter=20, maxDepth=10)\n",
        "gbt_up_model, gbt_upsample_res = fit_model(gbt_up, train_upsampled, df_test)\n",
        "print(\"Test results:\")\n",
        "val_evaluation(gbt_upsample_res)"
      ],
      "metadata": {
        "colab": {
          "base_uri": "https://localhost:8080/"
        },
        "id": "HVR0FnneVI1p",
        "outputId": "f3759fe4-f28d-4f8d-a526-beda470c8d04"
      },
      "execution_count": null,
      "outputs": [
        {
          "output_type": "stream",
          "name": "stdout",
          "text": [
            "Test results:\n",
            "Precision: 0.75\n",
            "Recall: 0.5454545454545454\n",
            "F1 positive class: 0.631578947368421\n",
            "F1 macro: 0.7650648360030512\n",
            "AUC-PR: 0.6363636363636364 \n",
            "\n"
          ]
        }
      ]
    },
    {
      "cell_type": "markdown",
      "source": [
        "# SMOTE oversampling\n",
        "Random oversampling simply duplicates existing minority class samples to increase their count, whereas SMOTE synthesizes new samples of the minority class based on the existing samples. In SMOTE, the algorithm selects a minority class sample and finds its k nearest neighbors in the feature space. It then generates synthetic samples by interpolating between the selected sample and one of its k nearest neighbors.\n",
        "\n",
        "The advantage of SMOTE over random oversampling is that it generates synthetic samples that are similar to the existing minority class samples, which helps to preserve the underlying structure of the minority class. This can improve the performance of machine learning algorithms compared to random oversampling, which can lead to overfitting if the minority class is simply duplicated multiple times."
      ],
      "metadata": {
        "id": "VvZ_xgv5a1hR"
      }
    },
    {
      "cell_type": "code",
      "source": [
        "# Split train/test data\n",
        "df_train, df_test = data.randomSplit([0.75, 0.25], seed=42)\n",
        "df_train = df_train.drop(df_train.NumFeatures)\n",
        "df_test = df_test.drop(df_test.NumFeatures)"
      ],
      "metadata": {
        "id": "FNkhs_UEa3m2"
      },
      "execution_count": null,
      "outputs": []
    },
    {
      "cell_type": "code",
      "source": [
        "df_smote = df_train.toPandas()\n",
        "df_smote = df_smote.dropna()\n",
        "df_test_sm = df_test.toPandas()\n",
        "X_train = df_smote.drop(columns=['label'])\n",
        "y_train = df_smote.label\n",
        "\n",
        "X_test = df_test_sm.drop(columns=['label'])\n",
        "y_test = df_test_sm.label\n",
        "# concatenate our training data back together\n",
        "#X = df_smote.toPandas()"
      ],
      "metadata": {
        "id": "u-3Sqtm8bCYt"
      },
      "execution_count": null,
      "outputs": []
    },
    {
      "cell_type": "code",
      "source": [
        "X_train = X_train.drop(columns=['date_created'])\n",
        "X_train = X_train.dropna()"
      ],
      "metadata": {
        "id": "9Zl3obGjbEIJ"
      },
      "execution_count": null,
      "outputs": []
    },
    {
      "cell_type": "code",
      "source": [
        "from imblearn.over_sampling import SMOTE\n",
        "sm = SMOTE(random_state=42)\n",
        "X_train, y_train = sm.fit_resample(X_train, y_train)"
      ],
      "metadata": {
        "id": "5fwZX5h8bFdk"
      },
      "execution_count": null,
      "outputs": []
    },
    {
      "cell_type": "code",
      "source": [
        "y_train.value_counts()"
      ],
      "metadata": {
        "colab": {
          "base_uri": "https://localhost:8080/"
        },
        "id": "6y2Fk_kNbHVH",
        "outputId": "f1c7d867-4295-4edf-a911-878a7fd7b8eb"
      },
      "execution_count": null,
      "outputs": [
        {
          "output_type": "execute_result",
          "data": {
            "text/plain": [
              "0    131\n",
              "1    131\n",
              "Name: label, dtype: int64"
            ]
          },
          "metadata": {},
          "execution_count": 33
        }
      ]
    },
    {
      "cell_type": "code",
      "source": [
        "X = pd.concat([X_train, y_train], axis = 1)"
      ],
      "metadata": {
        "id": "G7j3RYirbJpS"
      },
      "execution_count": null,
      "outputs": []
    },
    {
      "cell_type": "code",
      "source": [
        "out = spark.createDataFrame(X)"
      ],
      "metadata": {
        "id": "kw1nmW7NbLgC"
      },
      "execution_count": null,
      "outputs": []
    },
    {
      "cell_type": "code",
      "source": [
        "data_train = assembler.transform(out)\n",
        "# Use 'canceled' as model prediction label\n",
        "data_train = data_train.withColumnRenamed('canceled','label')"
      ],
      "metadata": {
        "id": "bvmE5oehbNED"
      },
      "execution_count": null,
      "outputs": []
    },
    {
      "cell_type": "code",
      "source": [
        "data_test = assembler.transform(df_test)\n",
        "# Use 'canceled' as model prediction label\n",
        "data_test = data_test.withColumnRenamed('canceled','label')"
      ],
      "metadata": {
        "id": "_v1xxhFfbRRC"
      },
      "execution_count": null,
      "outputs": []
    },
    {
      "cell_type": "code",
      "source": [
        "lr_sm = LogisticRegression(maxIter=10, elasticNetParam=1.0, regParam = 0.0001)\n",
        "lr_sm.setThreshold(0.65)\n",
        "lr_sm_model, lr_sm_res = fit_model(lr_sm, data_train, data_test)"
      ],
      "metadata": {
        "id": "OpaQXJXZbTks"
      },
      "execution_count": null,
      "outputs": []
    },
    {
      "cell_type": "code",
      "source": [
        "print(\"Test results:\") \n",
        "val_evaluation(lr_sm_res)"
      ],
      "metadata": {
        "colab": {
          "base_uri": "https://localhost:8080/"
        },
        "id": "4cyEM9eQbubt",
        "outputId": "058b06c0-3a90-48b6-9ee1-23851bd5f789"
      },
      "execution_count": null,
      "outputs": [
        {
          "output_type": "stream",
          "name": "stdout",
          "text": [
            "Test results:\n"
          ]
        },
        {
          "output_type": "stream",
          "name": "stderr",
          "text": [
            "/usr/local/lib/python3.8/dist-packages/pyspark/sql/context.py:157: FutureWarning: Deprecated in 3.0.0. Use SparkSession.builder.getOrCreate() instead.\n",
            "  warnings.warn(\n"
          ]
        },
        {
          "output_type": "stream",
          "name": "stdout",
          "text": [
            "Precision: 0.8\n",
            "Recall: 0.7272727272727273\n",
            "F1 positive class: 0.761904761904762\n",
            "F1 macro: 0.8436389481165602\n",
            "AUC-PR: 0.7250000000000001 \n",
            "\n"
          ]
        }
      ]
    },
    {
      "cell_type": "code",
      "source": [
        "rf_sm = RandomForestClassifier(maxDepth=10, numTrees=20)\n",
        "rf_sm_model, rf_sm_res = fit_model(rf_sm, data_train, data_test)\n",
        "print(\"Test results:\") \n",
        "val_evaluation(rf_sm_res)"
      ],
      "metadata": {
        "colab": {
          "base_uri": "https://localhost:8080/"
        },
        "id": "ftg-HsOVVdnj",
        "outputId": "522ec3ab-0978-4f9a-e5ae-d2d4621bc365"
      },
      "execution_count": null,
      "outputs": [
        {
          "output_type": "stream",
          "name": "stdout",
          "text": [
            "Test results:\n",
            "Precision: 1.0\n",
            "Recall: 0.45454545454545453\n",
            "F1 positive class: 0.625\n",
            "F1 macro: 0.7708333333333333\n",
            "AUC-PR: 0.7954545454545454 \n",
            "\n"
          ]
        }
      ]
    },
    {
      "cell_type": "code",
      "source": [
        "lsvc_sm = LinearSVC(maxIter=10, regParam=0.0)\n",
        "lsvc_sm.setThreshold(0.2)\n",
        "lsvc_sm_model, lsvc_sm_res = fit_model(lsvc_sm, data_train, data_test)\n",
        "print(\"Test results:\") \n",
        "val_evaluation(lsvc_sm_res)"
      ],
      "metadata": {
        "colab": {
          "base_uri": "https://localhost:8080/"
        },
        "id": "ssPh8JQIVoNq",
        "outputId": "6c0c90f2-4079-4103-8739-d0c6e2374544"
      },
      "execution_count": null,
      "outputs": [
        {
          "output_type": "stream",
          "name": "stdout",
          "text": [
            "Test results:\n",
            "Precision: 0.7272727272727273\n",
            "Recall: 0.7272727272727273\n",
            "F1 positive class: 0.7272727272727273\n",
            "F1 macro: 0.8181818181818181\n",
            "AUC-PR: 0.6621900826446281 \n",
            "\n"
          ]
        }
      ]
    },
    {
      "cell_type": "code",
      "source": [
        "gbt_sm = GBTClassifier(maxIter=5, maxDepth=2)\n",
        "gbt_sm_model, gbt_sm_res = fit_model(gbt_sm, data_train, data_test)\n",
        "print(\"Test results:\") \n",
        "val_evaluation(gbt_sm_res)"
      ],
      "metadata": {
        "colab": {
          "base_uri": "https://localhost:8080/"
        },
        "id": "O0e1eqHfVqXr",
        "outputId": "5e6c9cd5-94f1-453d-e8d9-fe927c14cc2b"
      },
      "execution_count": null,
      "outputs": [
        {
          "output_type": "stream",
          "name": "stdout",
          "text": [
            "Test results:\n",
            "Precision: 0.75\n",
            "Recall: 0.5454545454545454\n",
            "F1 positive class: 0.631578947368421\n",
            "F1 macro: 0.7650648360030512\n",
            "AUC-PR: 0.6363636363636364 \n",
            "\n"
          ]
        }
      ]
    },
    {
      "cell_type": "markdown",
      "source": [
        "# Summary of results\n",
        "\n",
        "| MODEL               | Downsampling  | Upsampling | SMOTE | \n",
        "|:-------------------:|:----:|:---------:|:----------:|\n",
        "| Logistic Regression | 0.70 | 0.74      | 0.76       |\n",
        "| Random Forest | 0.56 | 0.59      | 0.62       | \n",
        "| SVM | 0.73 | 0.70      | 0.73      |\n",
        "| GBT Classfier | 0.48 | 0.63      | 0.63      |\n",
        "\n",
        "From the results it is clearly possible to understand that Logistic Regression model is the best classifier for the current task. It managed to improve its F1-score up to 76% with SMOTE. "
      ],
      "metadata": {
        "id": "jWPNh5YvwuG5"
      }
    },
    {
      "cell_type": "markdown",
      "source": [
        "# Reweight dataset"
      ],
      "metadata": {
        "id": "64aL8vtTWW6C"
      }
    },
    {
      "cell_type": "markdown",
      "source": [
        "In PySpark, you can reweight the datasets for imbalanced binary classification by adjusting the class weights in the loss function used in the machine learning algorithm. This will make the model pay more attention to the minority class samples and help to balance the class distribution.\n",
        "The **setClassWeight** method is used to set the class weights in each model."
      ],
      "metadata": {
        "id": "iG4GIC1qSQWR"
      }
    },
    {
      "cell_type": "code",
      "source": [
        "# Try weighted col since the cancelled outcome is unbalanced\n",
        "balancingRatio = data.filter(col('label') == 1).count() / data.count()\n",
        "calculateWeights = udf(lambda x: 1 * balancingRatio if x == 0 else (1 * (1.0 - balancingRatio)), DoubleType())\n",
        "\n",
        "weightedDataset = data.withColumn(\"classWeightCol\", calculateWeights('label'))"
      ],
      "metadata": {
        "id": "0feuyo4TTJ4c"
      },
      "execution_count": null,
      "outputs": []
    },
    {
      "cell_type": "code",
      "source": [
        "weightedDataset.groupby('classWeightCol').count().show()"
      ],
      "metadata": {
        "colab": {
          "base_uri": "https://localhost:8080/"
        },
        "id": "idO_cKMKTMGo",
        "outputId": "2b6e5093-5639-418c-91dd-5839c49d9536"
      },
      "execution_count": null,
      "outputs": [
        {
          "output_type": "stream",
          "name": "stdout",
          "text": [
            "+-------------------+-----+\n",
            "|     classWeightCol|count|\n",
            "+-------------------+-----+\n",
            "|0.21904761904761905|  164|\n",
            "|  0.780952380952381|   46|\n",
            "+-------------------+-----+\n",
            "\n"
          ]
        }
      ]
    },
    {
      "cell_type": "code",
      "source": [
        "train_weight, test_weight = weightedDataset.randomSplit([0.75, 0.25], seed=42)"
      ],
      "metadata": {
        "id": "6HGMzwxlTv0l"
      },
      "execution_count": null,
      "outputs": []
    },
    {
      "cell_type": "code",
      "source": [
        "lr_weight = LogisticRegression(maxIter=10, elasticNetParam=1.0, regParam = 0.0001)\n",
        "lr_weight.setWeightCol('classWeightCol')\n",
        "lr_weight.setThreshold(0.65)\n",
        "lrweightedmodel, lrweightedresults = fit_model(lr_weight, train_weight, test_weight)"
      ],
      "metadata": {
        "id": "ne7YDSGZTzr9"
      },
      "execution_count": null,
      "outputs": []
    },
    {
      "cell_type": "code",
      "source": [
        "print(\"Test results:\")\n",
        "val_evaluation(lrweightedresults)"
      ],
      "metadata": {
        "colab": {
          "base_uri": "https://localhost:8080/"
        },
        "id": "KJrKyKqGT4O2",
        "outputId": "f81c6ee3-80cf-490d-c99f-e6245658dac4"
      },
      "execution_count": null,
      "outputs": [
        {
          "output_type": "stream",
          "name": "stdout",
          "text": [
            "Test results:\n"
          ]
        },
        {
          "output_type": "stream",
          "name": "stderr",
          "text": [
            "/usr/local/lib/python3.8/dist-packages/pyspark/sql/context.py:157: FutureWarning: Deprecated in 3.0.0. Use SparkSession.builder.getOrCreate() instead.\n",
            "  warnings.warn(\n"
          ]
        },
        {
          "output_type": "stream",
          "name": "stdout",
          "text": [
            "Precision: 0.8888888888888888\n",
            "Recall: 0.7272727272727273\n",
            "F1 positive class: 0.7999999999999999\n",
            "F1 macro: 0.8705882352941177\n",
            "AUC-PR: 0.8017676767676767 \n",
            "\n"
          ]
        }
      ]
    },
    {
      "cell_type": "code",
      "source": [
        "rf_weight = RandomForestClassifier(maxDepth=10, numTrees=20)\n",
        "rf_weight.setWeightCol('classWeightCol')\n",
        "rfweightedmodel, rfweightedresults = fit_model(rf_weight, train_weight, test_weight)\n",
        "print(\"Test results:\")\n",
        "val_evaluation(rfweightedresults)"
      ],
      "metadata": {
        "colab": {
          "base_uri": "https://localhost:8080/"
        },
        "id": "6ZoWCgzqXKNA",
        "outputId": "01fd2bca-8321-47b6-a1f2-376ccd511474"
      },
      "execution_count": null,
      "outputs": [
        {
          "output_type": "stream",
          "name": "stdout",
          "text": [
            "Test results:\n",
            "Precision: 1.0\n",
            "Recall: 0.36363636363636365\n",
            "F1 positive class: 0.5333333333333333\n",
            "F1 macro: 0.7187214611872146\n",
            "AUC-PR: 0.7613636363636364 \n",
            "\n"
          ]
        }
      ]
    },
    {
      "cell_type": "code",
      "source": [
        "lsvc_weight = LinearSVC(maxIter=10, regParam=0.0)\n",
        "lsvc_weight.setWeightCol('classWeightCol')\n",
        "lsvc_weight.setThreshold(0.5)\n",
        "lsvcweightedmodel, lsvcweightedresults, train_res = fit_model(lsvc_weight, train_weight, test_weight, train_score = True)\n",
        "print(\"train results:\")\n",
        "val_evaluation(train_res)\n",
        "print(\"Test results:\")\n",
        "val_evaluation(lsvcweightedresults)"
      ],
      "metadata": {
        "colab": {
          "base_uri": "https://localhost:8080/"
        },
        "id": "3JOdq9f2k0DA",
        "outputId": "0cb0303c-1c3f-4889-bf3d-bc304eddcc41"
      },
      "execution_count": null,
      "outputs": [
        {
          "output_type": "stream",
          "name": "stdout",
          "text": [
            "train results:\n"
          ]
        },
        {
          "output_type": "stream",
          "name": "stderr",
          "text": [
            "/usr/local/lib/python3.8/dist-packages/pyspark/sql/context.py:157: FutureWarning: Deprecated in 3.0.0. Use SparkSession.builder.getOrCreate() instead.\n",
            "  warnings.warn(\n"
          ]
        },
        {
          "output_type": "stream",
          "name": "stdout",
          "text": [
            "Precision: 0.71875\n",
            "Recall: 0.6571428571428571\n",
            "F1 positive class: 0.6865671641791045\n",
            "F1 macro: 0.8036609405801183\n",
            "AUC-PR: 0.6316802925989673 \n",
            "\n",
            "Test results:\n",
            "Precision: 0.875\n",
            "Recall: 0.6363636363636364\n",
            "F1 positive class: 0.7368421052631579\n",
            "F1 macro: 0.8321891685736079\n",
            "AUC-PR: 0.7613636363636364 \n",
            "\n"
          ]
        }
      ]
    },
    {
      "cell_type": "code",
      "source": [
        "lsvc_weight = LinearSVC(maxIter=10, regParam=0.0)\n",
        "lsvc_weight.setWeightCol('classWeightCol')\n",
        "lsvc_weight.setThreshold(0.5)\n",
        "lsvcweightedmodel, lsvcweightedresults = fit_model(lsvc_weight, train_weight, test_weight)\n",
        "print(\"Test results:\")\n",
        "val_evaluation(lsvcweightedresults)"
      ],
      "metadata": {
        "colab": {
          "base_uri": "https://localhost:8080/"
        },
        "id": "SVXB_G0kXXvq",
        "outputId": "f1915d98-8614-4b3e-ad0c-9d55fc428969"
      },
      "execution_count": null,
      "outputs": [
        {
          "output_type": "stream",
          "name": "stdout",
          "text": [
            "Test results:\n",
            "Precision: 0.875\n",
            "Recall: 0.6363636363636364\n",
            "F1 positive class: 0.7368421052631579\n",
            "F1 macro: 0.8321891685736079\n",
            "AUC-PR: 0.7613636363636364 \n",
            "\n"
          ]
        }
      ]
    },
    {
      "cell_type": "code",
      "source": [
        "gbt_weight = GBTClassifier(maxIter=5, maxDepth=2)\n",
        "gbt_weight.setWeightCol('classWeightCol')\n",
        "gbtweightedmodel, gbtweightedresults = fit_model(gbt_weight, train_weight, test_weight)\n",
        "print(\"Test results:\")\n",
        "val_evaluation(gbtweightedresults)"
      ],
      "metadata": {
        "colab": {
          "base_uri": "https://localhost:8080/"
        },
        "id": "t9SdVF9AXoXv",
        "outputId": "93c982d1-f19c-48df-f60f-26a57a03b026"
      },
      "execution_count": null,
      "outputs": [
        {
          "output_type": "stream",
          "name": "stdout",
          "text": [
            "Test results:\n",
            "Precision: 0.8333333333333334\n",
            "Recall: 0.45454545454545453\n",
            "F1 positive class: 0.5882352941176471\n",
            "F1 macro: 0.7448218724109362\n",
            "AUC-PR: 0.6742424242424243 \n",
            "\n"
          ]
        }
      ]
    },
    {
      "cell_type": "markdown",
      "source": [
        "# Summary of results Weighting\n",
        "- Logistic Regression: 0.80\n",
        "- Random Forest: 0.53\n",
        "- SVM: 0.74\n",
        "- GBT: 0.59\n",
        "\n",
        "**Logistic Regression further improve the previous score reached with SMOTE!** In some cases, reweighting the dataset may provide better results than resampling techniques because it does not change the distribution of the samples in the original dataset, and it allows the model to see the true distribution of the classes, as it happens in this case.\n",
        "Weighting seems to be the best strategy for SVM as well. On the other hand, resampling techinques turned out to be the best choice for RF and GBT."
      ],
      "metadata": {
        "id": "0SVzZRbVz7BU"
      }
    },
    {
      "cell_type": "markdown",
      "source": [
        "# Overall Results (f1-score)\n",
        "| MODEL               | Baseline | Downsampling  | Upsampling | SMOTE | Weighting|\n",
        "|:-------------------:|:----:|:----:|:---------:|:----------:|:----------:|\n",
        "| Logistic Regression | 0.71| 0.70 | 0.74      | 0.76       | 0.80|\n",
        "| Random Forest | 0.50|0.56 | 0.59      | 0.63       | 0.53|\n",
        "| SVM | 0.42|0.69 | 0.70      | 0.73      | 0.74|\n",
        "| GBT Classfier | 0.50|0.48 | 0.63      | 0.63      | 0.59|\n"
      ],
      "metadata": {
        "id": "qyMKUnuA1p9F"
      }
    }
  ]
}